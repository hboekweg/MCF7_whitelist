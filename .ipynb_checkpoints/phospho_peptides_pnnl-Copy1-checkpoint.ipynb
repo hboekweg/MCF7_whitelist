{
 "cells": [
  {
   "cell_type": "code",
   "execution_count": 1,
   "metadata": {},
   "outputs": [],
   "source": [
    "import pandas as pd\n",
    "import re"
   ]
  },
  {
   "cell_type": "code",
   "execution_count": 2,
   "metadata": {},
   "outputs": [],
   "source": [
    "# df1_gln = pd.read_csv('/Volumes/LaCie/phospho_white_list/PXD006449/2021-08-24-14-06-06/Task2-search/Individual File Results/20130426_SK_SA_marta_phospho_8_gln_1_PSMs.psmtsv',sep='\\t')\n",
    "\n",
    "# df1 = pd.read_csv('/Volumes/LaCie/phospho_white_list/PXD006449/2021-08-24-14-06-06/Task2-search/Individual File Results/20130426_SK_SA_marta_phospho_8_1_PSMs.psmtsv',sep='\\t')\n",
    "# df1['dataset'] = 'PXD006449'\n",
    "\n",
    "df1_gln = pd.read_csv('20130426_SK_SA_marta_phospho_8_gln_1_PSMs.psmtsv',sep='\\t')\n",
    "\n",
    "df1 = pd.read_csv('20130426_SK_SA_marta_phospho_8_1_PSMs.psmtsv',sep='\\t')\n",
    "\n",
    "\n",
    "# xls = pd.ExcelFile('/Volumes/LaCie/phospho_white_list/PXD000472/Supplementary_Dataset_1.xlsx')\n",
    "xls = pd.ExcelFile('Supplementary_Dataset_1.xlsx')\n",
    "df2 = pd.read_excel(xls, 'Phosphopeptide Features')\n",
    "\n",
    "\n",
    "# df3 = pd.read_csv('PXD013503/Holz_MCF7_TMT_PP_01_17Nov17_Elm_AQ-17-10-03_msgfplus.tsv', sep='\\t')\n",
    "df3 = pd.read_excel('144972_1_supp_335637_prw13z.xlsx')\n"
   ]
  },
  {
   "cell_type": "markdown",
   "metadata": {},
   "source": [
    "There are 3 datasets:\n",
    "\n",
    "    PXD006449:\n",
    "        3 growth conditions, 8hr and 24hr.\n",
    "        MEM with gln - control\n",
    "        MEM without gln - stress, loss of natural c source\n",
    "        MEM with gln and Oligomyocin - tumor/hypoxia simulation\n",
    "\n",
    "    PXD000472:\n",
    "        2 air/temp conditions.\n",
    "        control, 15 min, 2hr.\n",
    "\n",
    "    PXD013503:\n",
    "        Phosphoproteomic data from human MCF-7 cells treated with estrogen only or estrogen plus rapamycin, an mTOR inhibitor.\n",
    "\n",
    "\n",
    "    Each one indicates modifications differently. \n",
    "        Metamopheus: [Common Biological:Phosphorylation on S]\n",
    "        MSGFPlus: K.+229.163DEDS+79.966DDDDGS+79.966S+79.966AGC\n",
    "        MaxQuant: SAS^PY^PSHSLS^SPQRPSHSLS^\n",
    "\n",
    "We are going to format them using the S^ method. "
   ]
  },
  {
   "cell_type": "code",
   "execution_count": 3,
   "metadata": {},
   "outputs": [],
   "source": [
    "#S^ s is phosphorylated\n",
    "#S+79\n",
    "#[phos on S]\n",
    "\n",
    "def format_MM_mod(row):\n",
    "    peptide = row['Full Sequence']\n",
    "    newpep = re.sub('\\[.*?\\]', \"^\",peptide)\n",
    "    return newpep\n",
    "\n",
    "# +229: TMT on N terminal\n",
    "# Just get rid of this (the +229)\n",
    "def format_msgf_mod(row):\n",
    "#     import pdb;pdb.set_trace()\n",
    "    peptide = row['Peptide']\n",
    "    newpep = re.sub('\\+[\\d+\\.]+', \"^\", peptide)\n",
    "    if newpep[0:1] == '^':\n",
    "        newpep = newpep[1:]\n",
    "        \n",
    "    return newpep\n",
    "\n",
    "def format_013503_mod(row):\n",
    "    peptide = row['Peptide']\n",
    "    newpep = re.sub('\\*', \"^\", peptide)\n",
    "    #remove the .\n",
    "    newpep = newpep[:-2]\n",
    "    newpep = newpep[2:]\n",
    "    if newpep[0:1] == '^':\n",
    "        newpep = newpep[1:]\n",
    "        \n",
    "    return newpep\n",
    " "
   ]
  },
  {
   "cell_type": "code",
   "execution_count": 4,
   "metadata": {},
   "outputs": [],
   "source": [
    "df1['peptide'] = df1.apply(format_MM_mod, axis=1)\n",
    "df1_gln['peptide'] = df1_gln.apply(format_MM_mod, axis=1)\n",
    "df2['peptide'] = df2['pSequence']\n",
    "# df3['peptide'] = df3.apply(format_msgf_mod, axis=1)\n",
    "df3['peptide'] = df3.apply(format_013503_mod, axis=1)\n",
    "\n"
   ]
  },
  {
   "cell_type": "code",
   "execution_count": 5,
   "metadata": {},
   "outputs": [],
   "source": [
    "#Now they're all formated the same, lets get a list of intersecting peptides"
   ]
  },
  {
   "cell_type": "code",
   "execution_count": 6,
   "metadata": {},
   "outputs": [],
   "source": [
    "df1_list = list(set(df1['peptide']) & set(df1_gln['peptide']))\n",
    "df1_df2 = list(set(df1_list) & set(df2['peptide']))\n",
    "df2_df3 = list(set(df2['peptide']) & set(df3['peptide']))\n",
    "df1_df3 = list(set(df1_list) & set(df3['peptide']))\n",
    "df1_df2_df3 = list(set(df1_list) & set(df2['peptide']) & set(df3['peptide']))"
   ]
  },
  {
   "cell_type": "code",
   "execution_count": 7,
   "metadata": {},
   "outputs": [
    {
     "name": "stdout",
     "output_type": "stream",
     "text": [
      "4440\n",
      "2977\n",
      "10718\n",
      "\n",
      "4013\n",
      "2108\n",
      "9901\n",
      "\n",
      "287\n",
      "677\n",
      "235\n",
      "95\n"
     ]
    }
   ],
   "source": [
    "print(len(df1_list))\n",
    "print(len(set(df2['peptide'])))\n",
    "print(len(set(df3['peptide'])))\n",
    "\n",
    "print()\n",
    "print(len(set(df1_list).difference(*[list(df2['peptide'].unique()),list(df3['peptide'].unique())])))\n",
    "print(len(set(df2['peptide'].unique()).difference(*[list(df1_list),list(df3['peptide'].unique())])))\n",
    "print(len(set(df3['peptide'].unique()).difference(*[list(df1_list),list(df2['peptide'].unique())])))\n",
    "\n",
    "\n",
    "print()\n",
    "print(len(df1_df2))\n",
    "print(len(df2_df3))\n",
    "print(len(df1_df3))\n",
    "print(len(df1_df2_df3))"
   ]
  },
  {
   "cell_type": "code",
   "execution_count": 8,
   "metadata": {},
   "outputs": [
    {
     "data": {
      "text/plain": [
       "<matplotlib_venn._common.VennDiagram at 0x124430520>"
      ]
     },
     "execution_count": 8,
     "metadata": {},
     "output_type": "execute_result"
    },
    {
     "data": {
      "image/png": "[encoded data removed]",
      "text/plain": [
       "<Figure size 432x288 with 1 Axes>"
      ]
     },
     "metadata": {},
     "output_type": "display_data"
    }
   ],
   "source": [
    "from matplotlib_venn import venn3\n",
    "venn3(subsets = (4013, 2108 , 287,\n",
    "                 9901,\n",
    "                 235, 677,\n",
    "                 95\n",
    "                ), set_labels = ('PXD006449', 'PXD000472', 'PXD013503'))"
   ]
  },
  {
   "cell_type": "markdown",
   "metadata": {},
   "source": [
    "## Get a list of all intersections"
   ]
  },
  {
   "cell_type": "code",
   "execution_count": 9,
   "metadata": {},
   "outputs": [
    {
     "data": {
      "text/plain": [
       "1007"
      ]
     },
     "execution_count": 9,
     "metadata": {},
     "output_type": "execute_result"
    }
   ],
   "source": [
    "95+235+677"
   ]
  },
  {
   "cell_type": "code",
   "execution_count": 10,
   "metadata": {},
   "outputs": [
    {
     "data": {
      "text/plain": [
       "817"
      ]
     },
     "execution_count": 10,
     "metadata": {},
     "output_type": "execute_result"
    }
   ],
   "source": [
    "all_inter = set(df2_df3 + df1_df3 + df1_df2_df3)\n",
    "len(all_inter)"
   ]
  },
  {
   "cell_type": "code",
   "execution_count": 11,
   "metadata": {},
   "outputs": [],
   "source": [
    "#get the intensity based on precursor intensity"
   ]
  },
  {
   "cell_type": "code",
   "execution_count": 12,
   "metadata": {},
   "outputs": [
    {
     "data": {
      "text/plain": [
       "10718"
      ]
     },
     "execution_count": 12,
     "metadata": {},
     "output_type": "execute_result"
    }
   ],
   "source": [
    "len(list(df3['peptide'].unique()))"
   ]
  },
  {
   "cell_type": "code",
   "execution_count": 13,
   "metadata": {},
   "outputs": [],
   "source": [
    "pnnl_df1 = pd.read_csv('/Users/hannahboekweg/.ppx/PXD013503/Holz_MCF7_TMT_PP_01_17Nov17_Elm_AQ-17-10-03_msgfplus.tsv', sep='\\t')\n",
    "pnnl_df2 = pd.read_csv('/Users/hannahboekweg/.ppx/PXD013503/Holz_MCF7_TMT_PP_02_17Nov17_Elm_AQ-17-10-03_msgfplus.tsv', sep='\\t')\n",
    "pnnl_df3 = pd.read_csv('/Users/hannahboekweg/.ppx/PXD013503/Holz_MCF7_TMT_PP_03_17Nov17_Elm_AQ-17-10-03_msgfplus.tsv', sep='\\t')\n",
    "pnnl_df4 = pd.read_csv('/Users/hannahboekweg/.ppx/PXD013503/Holz_MCF7_TMT_PP_04_17Nov17_Elm_AQ-17-10-03_msgfplus.tsv', sep='\\t')\n",
    "pnnl_df5 = pd.read_csv('/Users/hannahboekweg/.ppx/PXD013503/Holz_MCF7_TMT_PP_05_17Nov17_Elm_AQ-17-10-03_msgfplus.tsv', sep='\\t')\n",
    "pnnl_df6 = pd.read_csv('/Users/hannahboekweg/.ppx/PXD013503/Holz_MCF7_TMT_PP_06_17Nov17_Elm_AQ-17-10-03_msgfplus.tsv', sep='\\t')\n",
    "\n",
    "pnnl_df1['peptide'] = pnnl_df1.apply(format_msgf_mod, axis=1)\n",
    "pnnl_df2['peptide'] = pnnl_df2.apply(format_msgf_mod, axis=1)\n",
    "pnnl_df3['peptide'] = pnnl_df3.apply(format_msgf_mod, axis=1)\n",
    "pnnl_df4['peptide'] = pnnl_df4.apply(format_msgf_mod, axis=1)\n",
    "pnnl_df5['peptide'] = pnnl_df5.apply(format_msgf_mod, axis=1)\n",
    "pnnl_df6['peptide'] = pnnl_df6.apply(format_msgf_mod, axis=1)\n",
    "\n"
   ]
  },
  {
   "cell_type": "code",
   "execution_count": 14,
   "metadata": {},
   "outputs": [
    {
     "data": {
      "text/plain": [
       "31491"
      ]
     },
     "execution_count": 14,
     "metadata": {},
     "output_type": "execute_result"
    }
   ],
   "source": [
    "len(list(pnnl_df1['peptide'].unique()))"
   ]
  },
  {
   "cell_type": "code",
   "execution_count": 15,
   "metadata": {},
   "outputs": [
    {
     "data": {
      "text/plain": [
       "117"
      ]
     },
     "execution_count": 15,
     "metadata": {},
     "output_type": "execute_result"
    }
   ],
   "source": [
    "pnl1 = pnnl_df1[pnnl_df1['peptide'].isin(all_inter)]\n",
    "len(pnl1['peptide'].unique())"
   ]
  },
  {
   "cell_type": "code",
   "execution_count": 16,
   "metadata": {},
   "outputs": [
    {
     "data": {
      "text/plain": [
       "153"
      ]
     },
     "execution_count": 16,
     "metadata": {},
     "output_type": "execute_result"
    }
   ],
   "source": [
    "pnl2 = pnnl_df2[pnnl_df2['peptide'].isin(all_inter)]\n",
    "len(pnl2['peptide'].unique())"
   ]
  },
  {
   "cell_type": "code",
   "execution_count": 17,
   "metadata": {},
   "outputs": [
    {
     "data": {
      "text/plain": [
       "149"
      ]
     },
     "execution_count": 17,
     "metadata": {},
     "output_type": "execute_result"
    }
   ],
   "source": [
    "pnl3 = pnnl_df3[pnnl_df3['peptide'].isin(all_inter)]\n",
    "len(pnl3['peptide'].unique())"
   ]
  },
  {
   "cell_type": "code",
   "execution_count": 18,
   "metadata": {},
   "outputs": [
    {
     "data": {
      "text/plain": [
       "144"
      ]
     },
     "execution_count": 18,
     "metadata": {},
     "output_type": "execute_result"
    }
   ],
   "source": [
    "pnl4 = pnnl_df4[pnnl_df4['peptide'].isin(all_inter)]\n",
    "len(pnl4['peptide'].unique())"
   ]
  },
  {
   "cell_type": "code",
   "execution_count": 19,
   "metadata": {},
   "outputs": [
    {
     "data": {
      "text/plain": [
       "136"
      ]
     },
     "execution_count": 19,
     "metadata": {},
     "output_type": "execute_result"
    }
   ],
   "source": [
    "pnl5 = pnnl_df5[pnnl_df5['peptide'].isin(all_inter)]\n",
    "len(pnl5['peptide'].unique())"
   ]
  },
  {
   "cell_type": "code",
   "execution_count": 20,
   "metadata": {},
   "outputs": [
    {
     "data": {
      "text/plain": [
       "153"
      ]
     },
     "execution_count": 20,
     "metadata": {},
     "output_type": "execute_result"
    }
   ],
   "source": [
    "pnl6 = pnnl_df6[pnnl_df6['peptide'].isin(all_inter)]\n",
    "len(pnl6['peptide'].unique())"
   ]
  },
  {
   "cell_type": "code",
   "execution_count": 21,
   "metadata": {},
   "outputs": [
    {
     "data": {
      "text/plain": [
       "852"
      ]
     },
     "execution_count": 21,
     "metadata": {},
     "output_type": "execute_result"
    }
   ],
   "source": [
    "117+153+149+144+136+153"
   ]
  },
  {
   "cell_type": "code",
   "execution_count": 22,
   "metadata": {},
   "outputs": [],
   "source": [
    "#filter based on peptide list\n",
    "\n",
    "pnnl_df1 = pnnl_df1[pnnl_df1['peptide'].isin(all_inter)]\n",
    "pnnl_df2 = pnnl_df2[pnnl_df2['peptide'].isin(all_inter)]\n",
    "pnnl_df3 = pnnl_df3[pnnl_df3['peptide'].isin(all_inter)]\n",
    "pnnl_df4 = pnnl_df4[pnnl_df4['peptide'].isin(all_inter)]\n",
    "pnnl_df5 = pnnl_df5[pnnl_df5['peptide'].isin(all_inter)]\n",
    "pnnl_df6 = pnnl_df6[pnnl_df6['peptide'].isin(all_inter)]\n",
    "\n"
   ]
  },
  {
   "cell_type": "code",
   "execution_count": 23,
   "metadata": {},
   "outputs": [],
   "source": [
    "import itertools\n",
    "pnnl1 = list(pnnl_df1['peptide'].unique())\n",
    "pnnl2 = list(pnnl_df2['peptide'].unique())\n",
    "pnnl3 = list(pnnl_df3['peptide'].unique())\n",
    "pnnl4 = list(pnnl_df4['peptide'].unique())\n",
    "pnnl5 = list(pnnl_df5['peptide'].unique())\n",
    "pnnl6 = list(pnnl_df6['peptide'].unique())\n",
    "\n",
    "all_pnnl = itertools.chain(pnnl1, pnnl2, pnnl3, pnnl4, pnnl5, pnnl6)\n",
    "all_pnnl = list(all_pnnl)"
   ]
  },
  {
   "cell_type": "code",
   "execution_count": 24,
   "metadata": {},
   "outputs": [
    {
     "data": {
      "text/plain": [
       "817"
      ]
     },
     "execution_count": 24,
     "metadata": {},
     "output_type": "execute_result"
    }
   ],
   "source": [
    "len(set(all_inter))"
   ]
  },
  {
   "cell_type": "code",
   "execution_count": 25,
   "metadata": {},
   "outputs": [
    {
     "name": "stdout",
     "output_type": "stream",
     "text": [
      "117 153 149 144 136 153\n"
     ]
    }
   ],
   "source": [
    "print(len(pnnl1),len(pnnl2),len(pnnl3),len(pnnl4),len(pnnl5),len(pnnl6))"
   ]
  },
  {
   "cell_type": "code",
   "execution_count": 26,
   "metadata": {},
   "outputs": [
    {
     "name": "stdout",
     "output_type": "stream",
     "text": [
      "117 153 149 144 136 153\n"
     ]
    }
   ],
   "source": [
    "print(len(pnnl1),len(pnnl2),len(pnnl3),len(pnnl4),len(pnnl5),len(pnnl6))"
   ]
  },
  {
   "cell_type": "code",
   "execution_count": 27,
   "metadata": {},
   "outputs": [],
   "source": [
    "# For now we'll just append intensity to the pnnl_df\n",
    "# Find intensity by looking at peak of precursor"
   ]
  },
  {
   "cell_type": "code",
   "execution_count": 28,
   "metadata": {},
   "outputs": [
    {
     "name": "stderr",
     "output_type": "stream",
     "text": [
      "RDKit WARNING: [12:14:21] Enabling RDKit 2019.09.3 jupyter extensions\n"
     ]
    }
   ],
   "source": [
    "import pyteomics\n",
    "import pandas as pd\n",
    "from pyteomics import mzml, auxiliary\n",
    "import matplotlib.pyplot as plt\n",
    "import spectrum_utils.plot as sup\n",
    "import spectrum_utils.spectrum as sus"
   ]
  },
  {
   "cell_type": "code",
   "execution_count": 29,
   "metadata": {},
   "outputs": [],
   "source": [
    "#we had to gunzip the file manually\n",
    "mzml1 =  pyteomics.mzml.MzML('/Users/hannahboekweg/.ppx/PXD013503/Holz_MCF7_TMT_PP_01_17Nov17_Elm_AQ-17-10-03.mzML')\n",
    "mzml2 =  pyteomics.mzml.MzML('/Users/hannahboekweg/.ppx/PXD013503/Holz_MCF7_TMT_PP_02_17Nov17_Elm_AQ-17-10-03.mzML')\n",
    "mzml3 =  pyteomics.mzml.MzML('/Users/hannahboekweg/.ppx/PXD013503/Holz_MCF7_TMT_PP_03_17Nov17_Elm_AQ-17-10-03.mzML')\n",
    "mzml4 =  pyteomics.mzml.MzML('/Users/hannahboekweg/.ppx/PXD013503/Holz_MCF7_TMT_PP_04_17Nov17_Elm_AQ-17-10-03.mzML')\n",
    "mzml5 =  pyteomics.mzml.MzML('/Users/hannahboekweg/.ppx/PXD013503/Holz_MCF7_TMT_PP_05_17Nov17_Elm_AQ-17-10-03.mzML')\n",
    "mzml6 =  pyteomics.mzml.MzML('/Users/hannahboekweg/.ppx/PXD013503/Holz_MCF7_TMT_PP_06_17Nov17_Elm_AQ-17-10-03.mzML')\n"
   ]
  },
  {
   "cell_type": "code",
   "execution_count": 30,
   "metadata": {},
   "outputs": [],
   "source": [
    "def get_precursor_info(scan, mzml):\n",
    "    my_id = 'controllerType=0 controllerNumber=1 scan='+ str(scan)\n",
    "    spectrum_dict = mzml.get_by_id(my_id)\n",
    "\n",
    "    spectrum_id = spectrum_dict['id']\n",
    "    retention_time = (spectrum_dict['scanList']['scan'][0].get('scan start time', -1))\n",
    "    precursor = spectrum_dict['precursorList']['precursor'][0]\n",
    "    precursor_ion = precursor['selectedIonList']['selectedIon'][0]\n",
    "    precursor_mz = precursor_ion['selected ion m/z']\n",
    "    precursor_intensity = precursor_ion['peak intensity']\n",
    "    "
   ]
  },
  {
   "cell_type": "code",
   "execution_count": 31,
   "metadata": {},
   "outputs": [],
   "source": [
    "def get_retention_time(row, mzml):\n",
    "    ms2scan = row['ScanNum']\n",
    "    my_id = 'controllerType=0 controllerNumber=1 scan='+ str(ms2scan)\n",
    "    spectrum_dict = mzml.get_by_id(my_id)\n",
    "\n",
    "    spectrum_id = spectrum_dict['id']\n",
    "    retention_time = (spectrum_dict['scanList']['scan'][0].get('scan start time', -1))\n",
    "    return retention_time"
   ]
  },
  {
   "cell_type": "code",
   "execution_count": 32,
   "metadata": {},
   "outputs": [],
   "source": [
    "def get_precursor_intensity(row, mzml):\n",
    "    precursor_mz = row['Precursor']\n",
    "    ms2_scan_start_time =  row['scan_start_time']\n",
    "    df_ms1 = get_values(precursor_mz, ms2_scan_start_time, mzml1)\n",
    "    \n",
    "    #get most intense ms1\n",
    "    most_intense_ms1 = df_ms1['intensity'].max()\n",
    "    \n",
    "    return most_intense_ms1"
   ]
  },
  {
   "cell_type": "code",
   "execution_count": 35,
   "metadata": {},
   "outputs": [],
   "source": [
    "def get_values(target_mz, scan_start_time, data):\n",
    "    df = pd.DataFrame(columns={'scan', 'time', 'intensity', \"mz\"})\n",
    "\n",
    "    tol = 0.1\n",
    "    mz_min = target_mz - tol\n",
    "    mz_max = target_mz + tol\n",
    "    peak_time = scan_start_time #Scan start time is in minutes\n",
    "    times = data.time[peak_time - 0.166667: peak_time + 0.166667] #plus or minus 10 seconds\n",
    "\n",
    "\n",
    "    for spectra in times:\n",
    "        # checking that we have an MS1 scan\n",
    "        if spectra['ms level'] == 1:\n",
    "\n",
    "            # getting the time\n",
    "            time = (spectra['scanList']['scan'][0].get('scan start time'))\n",
    "\n",
    "            # get scan number\n",
    "            scanString = spectra['id']\n",
    "            startSpot = scanString.find('scan=')\n",
    "            scanNum = scanString[startSpot + 5:]\n",
    "\n",
    "            # get intensity and mz\n",
    "            intensity_array = spectra['intensity array']\n",
    "            mz_array = spectra[\"m/z array\"]\n",
    "\n",
    "            # checking through all mz array for anything in our range of mz values\n",
    "            for x in range(0, len(mz_array)):\n",
    "                if mz_array[x] > mz_min and mz_array[x] < mz_max:\n",
    "                    intensity = intensity_array[x]\n",
    "\n",
    "                    # creating a new row and adding it into the df\n",
    "                    row = {'scan': scanNum, 'time': time, 'intensity': intensity, 'mz': mz_array[x]}\n",
    "                    df = df.append(row, ignore_index=True)\n",
    "\n",
    "\n",
    "    return df\n",
    "\n",
    "\n",
    "def clean_values(df):\n",
    "    # keep the highest scoring value from each scan number\n",
    "\n",
    "    # sort based on intensity value\n",
    "    df_slim = df.sort_values('intensity')\n",
    "    # drop duplicate scans and keep the one with the highest intensity\n",
    "    df_slim = df_slim.drop_duplicates(subset=[\"scan\"], keep=\"last\")  # keep highest scoring intensity\n",
    "\n",
    "    # sort on time, easier to read\n",
    "    df_slim = df_slim.sort_values('time')\n",
    "\n",
    "    return (df_slim)"
   ]
  },
  {
   "cell_type": "code",
   "execution_count": 36,
   "metadata": {},
   "outputs": [],
   "source": [
    "pnnl_df1['scan_start_time'] = pnnl_df1.apply(lambda row: get_retention_time(row, mzml1), axis=1)\n",
    "pnnl_df2['scan_start_time'] = pnnl_df2.apply(lambda row: get_retention_time(row, mzml2), axis=1)\n",
    "pnnl_df3['scan_start_time'] = pnnl_df3.apply(lambda row: get_retention_time(row, mzml3), axis=1)\n",
    "pnnl_df4['scan_start_time'] = pnnl_df4.apply(lambda row: get_retention_time(row, mzml4), axis=1)\n",
    "pnnl_df5['scan_start_time'] = pnnl_df5.apply(lambda row: get_retention_time(row, mzml5), axis=1)\n",
    "pnnl_df6['scan_start_time'] = pnnl_df6.apply(lambda row: get_retention_time(row, mzml6), axis=1)"
   ]
  },
  {
   "cell_type": "code",
   "execution_count": 37,
   "metadata": {},
   "outputs": [],
   "source": [
    "pnnl_df1['precursor_intenisity'] = pnnl_df1.apply(lambda row: get_precursor_intensity(row, mzml1), axis=1)\n",
    "pnnl_df2['precursor_intenisity'] = pnnl_df2.apply(lambda row: get_precursor_intensity(row, mzml2), axis=1)\n",
    "pnnl_df3['precursor_intenisity'] = pnnl_df3.apply(lambda row: get_precursor_intensity(row, mzml3), axis=1)\n",
    "pnnl_df4['precursor_intenisity'] = pnnl_df4.apply(lambda row: get_precursor_intensity(row, mzml4), axis=1)\n",
    "pnnl_df5['precursor_intenisity'] = pnnl_df5.apply(lambda row: get_precursor_intensity(row, mzml5), axis=1)\n",
    "pnnl_df6['precursor_intenisity'] = pnnl_df6.apply(lambda row: get_precursor_intensity(row, mzml6), axis=1)"
   ]
  },
  {
   "cell_type": "code",
   "execution_count": 40,
   "metadata": {},
   "outputs": [
    {
     "data": {
      "text/html": [
       "<div>\n",
       "<style scoped>\n",
       "    .dataframe tbody tr th:only-of-type {\n",
       "        vertical-align: middle;\n",
       "    }\n",
       "\n",
       "    .dataframe tbody tr th {\n",
       "        vertical-align: top;\n",
       "    }\n",
       "\n",
       "    .dataframe thead th {\n",
       "        text-align: right;\n",
       "    }\n",
       "</style>\n",
       "<table border=\"1\" class=\"dataframe\">\n",
       "  <thead>\n",
       "    <tr style=\"text-align: right;\">\n",
       "      <th></th>\n",
       "      <th>#SpecFile</th>\n",
       "      <th>SpecID</th>\n",
       "      <th>ScanNum</th>\n",
       "      <th>FragMethod</th>\n",
       "      <th>Precursor</th>\n",
       "      <th>IsotopeError</th>\n",
       "      <th>PrecursorError(ppm)</th>\n",
       "      <th>Charge</th>\n",
       "      <th>Peptide</th>\n",
       "      <th>Protein</th>\n",
       "      <th>DeNovoScore</th>\n",
       "      <th>MSGFScore</th>\n",
       "      <th>SpecEValue</th>\n",
       "      <th>EValue</th>\n",
       "      <th>QValue</th>\n",
       "      <th>PepQValue</th>\n",
       "      <th>peptide</th>\n",
       "      <th>scan_start_time</th>\n",
       "      <th>precursor_intenisity</th>\n",
       "    </tr>\n",
       "  </thead>\n",
       "  <tbody>\n",
       "    <tr>\n",
       "      <th>34</th>\n",
       "      <td>E:\\DMS_WorkDir5\\Holz_MCF7_TMT_PP_01_17Nov17_El...</td>\n",
       "      <td>controllerType=0 controllerNumber=1 scan=7063</td>\n",
       "      <td>7063</td>\n",
       "      <td>HCD</td>\n",
       "      <td>1110.9645</td>\n",
       "      <td>1</td>\n",
       "      <td>-0.411280</td>\n",
       "      <td>2</td>\n",
       "      <td>+229.163SSGS+79.966PYGGGYGSGGGSGGYGSR</td>\n",
       "      <td>NP_001317178.1(pre=R,post=R);NP_001317176.1(pr...</td>\n",
       "      <td>158</td>\n",
       "      <td>151</td>\n",
       "      <td>2.054010e-24</td>\n",
       "      <td>4.774654e-17</td>\n",
       "      <td>0.0</td>\n",
       "      <td>0.0</td>\n",
       "      <td>SSGS^PYGGGYGSGGGSGGYGSR</td>\n",
       "      <td>15.570710</td>\n",
       "      <td>13813618.0</td>\n",
       "    </tr>\n",
       "    <tr>\n",
       "      <th>125</th>\n",
       "      <td>E:\\DMS_WorkDir5\\Holz_MCF7_TMT_PP_01_17Nov17_El...</td>\n",
       "      <td>controllerType=0 controllerNumber=1 scan=17399</td>\n",
       "      <td>17399</td>\n",
       "      <td>HCD</td>\n",
       "      <td>1022.8086</td>\n",
       "      <td>1</td>\n",
       "      <td>-0.934513</td>\n",
       "      <td>3</td>\n",
       "      <td>+229.163SQSSEGVSSLSSS+79.966PSNSLETQSQSLSR</td>\n",
       "      <td>NP_001099032.1(pre=R,post=S);NP_006039.2(pre=R...</td>\n",
       "      <td>169</td>\n",
       "      <td>142</td>\n",
       "      <td>7.623662e-22</td>\n",
       "      <td>1.798543e-14</td>\n",
       "      <td>0.0</td>\n",
       "      <td>0.0</td>\n",
       "      <td>SQSSEGVSSLSSS^PSNSLETQSQSLSR</td>\n",
       "      <td>34.675939</td>\n",
       "      <td>13674068.0</td>\n",
       "    </tr>\n",
       "    <tr>\n",
       "      <th>145</th>\n",
       "      <td>E:\\DMS_WorkDir5\\Holz_MCF7_TMT_PP_01_17Nov17_El...</td>\n",
       "      <td>controllerType=0 controllerNumber=1 scan=18761</td>\n",
       "      <td>18761</td>\n",
       "      <td>HCD</td>\n",
       "      <td>853.4197</td>\n",
       "      <td>0</td>\n",
       "      <td>-0.143037</td>\n",
       "      <td>3</td>\n",
       "      <td>+229.163VVNTDHGS+79.966PEQLQIPVTDSGR</td>\n",
       "      <td>NP_689821.3(pre=R,post=H)</td>\n",
       "      <td>125</td>\n",
       "      <td>122</td>\n",
       "      <td>2.018855e-21</td>\n",
       "      <td>4.677924e-14</td>\n",
       "      <td>0.0</td>\n",
       "      <td>0.0</td>\n",
       "      <td>VVNTDHGS^PEQLQIPVTDSGR</td>\n",
       "      <td>37.366602</td>\n",
       "      <td>17318922.0</td>\n",
       "    </tr>\n",
       "    <tr>\n",
       "      <th>197</th>\n",
       "      <td>E:\\DMS_WorkDir5\\Holz_MCF7_TMT_PP_01_17Nov17_El...</td>\n",
       "      <td>controllerType=0 controllerNumber=1 scan=20593</td>\n",
       "      <td>20593</td>\n",
       "      <td>HCD</td>\n",
       "      <td>728.9340</td>\n",
       "      <td>0</td>\n",
       "      <td>-1.255980</td>\n",
       "      <td>3</td>\n",
       "      <td>+229.163DWEDDS+79.966DEDMSNFDR</td>\n",
       "      <td>NP_001269533.1(pre=K,post=F);NP_006592.3(pre=K...</td>\n",
       "      <td>83</td>\n",
       "      <td>83</td>\n",
       "      <td>6.006551e-21</td>\n",
       "      <td>1.360875e-13</td>\n",
       "      <td>0.0</td>\n",
       "      <td>0.0</td>\n",
       "      <td>DWEDDS^DEDMSNFDR</td>\n",
       "      <td>40.888909</td>\n",
       "      <td>52073560.0</td>\n",
       "    </tr>\n",
       "    <tr>\n",
       "      <th>209</th>\n",
       "      <td>E:\\DMS_WorkDir5\\Holz_MCF7_TMT_PP_01_17Nov17_El...</td>\n",
       "      <td>controllerType=0 controllerNumber=1 scan=6222</td>\n",
       "      <td>6222</td>\n",
       "      <td>HCD</td>\n",
       "      <td>665.3036</td>\n",
       "      <td>0</td>\n",
       "      <td>-0.183481</td>\n",
       "      <td>3</td>\n",
       "      <td>+229.163HTGPNS+79.966PDTANDGFVR</td>\n",
       "      <td>NP_001244222.1(pre=K,post=L);NP_001027565.1(pr...</td>\n",
       "      <td>128</td>\n",
       "      <td>125</td>\n",
       "      <td>8.121693e-21</td>\n",
       "      <td>1.847966e-13</td>\n",
       "      <td>0.0</td>\n",
       "      <td>0.0</td>\n",
       "      <td>HTGPNS^PDTANDGFVR</td>\n",
       "      <td>14.039665</td>\n",
       "      <td>90649944.0</td>\n",
       "    </tr>\n",
       "  </tbody>\n",
       "</table>\n",
       "</div>"
      ],
      "text/plain": [
       "                                             #SpecFile  \\\n",
       "34   E:\\DMS_WorkDir5\\Holz_MCF7_TMT_PP_01_17Nov17_El...   \n",
       "125  E:\\DMS_WorkDir5\\Holz_MCF7_TMT_PP_01_17Nov17_El...   \n",
       "145  E:\\DMS_WorkDir5\\Holz_MCF7_TMT_PP_01_17Nov17_El...   \n",
       "197  E:\\DMS_WorkDir5\\Holz_MCF7_TMT_PP_01_17Nov17_El...   \n",
       "209  E:\\DMS_WorkDir5\\Holz_MCF7_TMT_PP_01_17Nov17_El...   \n",
       "\n",
       "                                             SpecID  ScanNum FragMethod  \\\n",
       "34    controllerType=0 controllerNumber=1 scan=7063     7063        HCD   \n",
       "125  controllerType=0 controllerNumber=1 scan=17399    17399        HCD   \n",
       "145  controllerType=0 controllerNumber=1 scan=18761    18761        HCD   \n",
       "197  controllerType=0 controllerNumber=1 scan=20593    20593        HCD   \n",
       "209   controllerType=0 controllerNumber=1 scan=6222     6222        HCD   \n",
       "\n",
       "     Precursor  IsotopeError  PrecursorError(ppm)  Charge  \\\n",
       "34   1110.9645             1            -0.411280       2   \n",
       "125  1022.8086             1            -0.934513       3   \n",
       "145   853.4197             0            -0.143037       3   \n",
       "197   728.9340             0            -1.255980       3   \n",
       "209   665.3036             0            -0.183481       3   \n",
       "\n",
       "                                        Peptide  \\\n",
       "34        +229.163SSGS+79.966PYGGGYGSGGGSGGYGSR   \n",
       "125  +229.163SQSSEGVSSLSSS+79.966PSNSLETQSQSLSR   \n",
       "145        +229.163VVNTDHGS+79.966PEQLQIPVTDSGR   \n",
       "197              +229.163DWEDDS+79.966DEDMSNFDR   \n",
       "209             +229.163HTGPNS+79.966PDTANDGFVR   \n",
       "\n",
       "                                               Protein  DeNovoScore  \\\n",
       "34   NP_001317178.1(pre=R,post=R);NP_001317176.1(pr...          158   \n",
       "125  NP_001099032.1(pre=R,post=S);NP_006039.2(pre=R...          169   \n",
       "145                          NP_689821.3(pre=R,post=H)          125   \n",
       "197  NP_001269533.1(pre=K,post=F);NP_006592.3(pre=K...           83   \n",
       "209  NP_001244222.1(pre=K,post=L);NP_001027565.1(pr...          128   \n",
       "\n",
       "     MSGFScore    SpecEValue        EValue  QValue  PepQValue  \\\n",
       "34         151  2.054010e-24  4.774654e-17     0.0        0.0   \n",
       "125        142  7.623662e-22  1.798543e-14     0.0        0.0   \n",
       "145        122  2.018855e-21  4.677924e-14     0.0        0.0   \n",
       "197         83  6.006551e-21  1.360875e-13     0.0        0.0   \n",
       "209        125  8.121693e-21  1.847966e-13     0.0        0.0   \n",
       "\n",
       "                          peptide  scan_start_time  precursor_intenisity  \n",
       "34        SSGS^PYGGGYGSGGGSGGYGSR        15.570710            13813618.0  \n",
       "125  SQSSEGVSSLSSS^PSNSLETQSQSLSR        34.675939            13674068.0  \n",
       "145        VVNTDHGS^PEQLQIPVTDSGR        37.366602            17318922.0  \n",
       "197              DWEDDS^DEDMSNFDR        40.888909            52073560.0  \n",
       "209             HTGPNS^PDTANDGFVR        14.039665            90649944.0  "
      ]
     },
     "execution_count": 40,
     "metadata": {},
     "output_type": "execute_result"
    }
   ],
   "source": [
    "pnnl_df1.head()"
   ]
  },
  {
   "cell_type": "code",
   "execution_count": 56,
   "metadata": {},
   "outputs": [
    {
     "data": {
      "text/html": [
       "<div>\n",
       "<style scoped>\n",
       "    .dataframe tbody tr th:only-of-type {\n",
       "        vertical-align: middle;\n",
       "    }\n",
       "\n",
       "    .dataframe tbody tr th {\n",
       "        vertical-align: top;\n",
       "    }\n",
       "\n",
       "    .dataframe thead th {\n",
       "        text-align: right;\n",
       "    }\n",
       "</style>\n",
       "<table border=\"1\" class=\"dataframe\">\n",
       "  <thead>\n",
       "    <tr style=\"text-align: right;\">\n",
       "      <th></th>\n",
       "      <th>peptide</th>\n",
       "      <th>scan_start_time</th>\n",
       "      <th>precursor_intenisity</th>\n",
       "    </tr>\n",
       "  </thead>\n",
       "  <tbody>\n",
       "    <tr>\n",
       "      <th>34</th>\n",
       "      <td>SSGS^PYGGGYGSGGGSGGYGSR</td>\n",
       "      <td>15.570710</td>\n",
       "      <td>13813618.00</td>\n",
       "    </tr>\n",
       "    <tr>\n",
       "      <th>125</th>\n",
       "      <td>SQSSEGVSSLSSS^PSNSLETQSQSLSR</td>\n",
       "      <td>34.675939</td>\n",
       "      <td>13674068.00</td>\n",
       "    </tr>\n",
       "    <tr>\n",
       "      <th>145</th>\n",
       "      <td>VVNTDHGS^PEQLQIPVTDSGR</td>\n",
       "      <td>37.366602</td>\n",
       "      <td>17318922.00</td>\n",
       "    </tr>\n",
       "    <tr>\n",
       "      <th>197</th>\n",
       "      <td>DWEDDS^DEDMSNFDR</td>\n",
       "      <td>40.888909</td>\n",
       "      <td>52073560.00</td>\n",
       "    </tr>\n",
       "    <tr>\n",
       "      <th>209</th>\n",
       "      <td>HTGPNS^PDTANDGFVR</td>\n",
       "      <td>14.039665</td>\n",
       "      <td>90649944.00</td>\n",
       "    </tr>\n",
       "    <tr>\n",
       "      <th>...</th>\n",
       "      <td>...</td>\n",
       "      <td>...</td>\n",
       "      <td>...</td>\n",
       "    </tr>\n",
       "    <tr>\n",
       "      <th>28723</th>\n",
       "      <td>SLGSVQAPSYGARPVSSAAS^VYAGAGGSGSR</td>\n",
       "      <td>72.101250</td>\n",
       "      <td>202570.25</td>\n",
       "    </tr>\n",
       "    <tr>\n",
       "      <th>30668</th>\n",
       "      <td>GIS^PIVFDR</td>\n",
       "      <td>53.095730</td>\n",
       "      <td>3093359.00</td>\n",
       "    </tr>\n",
       "    <tr>\n",
       "      <th>37081</th>\n",
       "      <td>GVDFES^S^EDDDDDPFMNTSSLRR</td>\n",
       "      <td>55.419410</td>\n",
       "      <td>961751.00</td>\n",
       "    </tr>\n",
       "    <tr>\n",
       "      <th>37751</th>\n",
       "      <td>SSGS^PYGGGYGSGGGSGGYGSR</td>\n",
       "      <td>52.348368</td>\n",
       "      <td>NaN</td>\n",
       "    </tr>\n",
       "    <tr>\n",
       "      <th>38909</th>\n",
       "      <td>APS^IHGGSGGR</td>\n",
       "      <td>93.009686</td>\n",
       "      <td>NaN</td>\n",
       "    </tr>\n",
       "  </tbody>\n",
       "</table>\n",
       "<p>1946 rows × 3 columns</p>\n",
       "</div>"
      ],
      "text/plain": [
       "                                peptide  scan_start_time  precursor_intenisity\n",
       "34              SSGS^PYGGGYGSGGGSGGYGSR        15.570710           13813618.00\n",
       "125        SQSSEGVSSLSSS^PSNSLETQSQSLSR        34.675939           13674068.00\n",
       "145              VVNTDHGS^PEQLQIPVTDSGR        37.366602           17318922.00\n",
       "197                    DWEDDS^DEDMSNFDR        40.888909           52073560.00\n",
       "209                   HTGPNS^PDTANDGFVR        14.039665           90649944.00\n",
       "...                                 ...              ...                   ...\n",
       "28723  SLGSVQAPSYGARPVSSAAS^VYAGAGGSGSR        72.101250             202570.25\n",
       "30668                        GIS^PIVFDR        53.095730            3093359.00\n",
       "37081         GVDFES^S^EDDDDDPFMNTSSLRR        55.419410             961751.00\n",
       "37751           SSGS^PYGGGYGSGGGSGGYGSR        52.348368                   NaN\n",
       "38909                      APS^IHGGSGGR        93.009686                   NaN\n",
       "\n",
       "[1946 rows x 3 columns]"
      ]
     },
     "execution_count": 56,
     "metadata": {},
     "output_type": "execute_result"
    }
   ],
   "source": [
    "#combine all df\n",
    "all_df = pd.concat([pnnl_df1,pnnl_df2],axis=0)\n",
    "all_df = pd.concat([all_df,pnnl_df3],axis=0)\n",
    "all_df = pd.concat([all_df,pnnl_df4],axis=0)\n",
    "all_df = pd.concat([all_df,pnnl_df5],axis=0)\n",
    "all_df = pd.concat([all_df,pnnl_df6],axis=0)\n",
    "\n",
    "all_df[['peptide','scan_start_time','precursor_intenisity']]"
   ]
  },
  {
   "cell_type": "code",
   "execution_count": 47,
   "metadata": {},
   "outputs": [
    {
     "data": {
      "text/plain": [
       "337"
      ]
     },
     "execution_count": 47,
     "metadata": {},
     "output_type": "execute_result"
    }
   ],
   "source": [
    "len(all_df['peptide'].unique())"
   ]
  },
  {
   "cell_type": "code",
   "execution_count": 49,
   "metadata": {},
   "outputs": [
    {
     "data": {
      "text/plain": [
       "817"
      ]
     },
     "execution_count": 49,
     "metadata": {},
     "output_type": "execute_result"
    }
   ],
   "source": [
    "df3_pep = df3[df3['peptide'].isin(all_inter)]\n",
    "len(df3_pep['peptide'].unique())"
   ]
  },
  {
   "cell_type": "code",
   "execution_count": 39,
   "metadata": {},
   "outputs": [
    {
     "ename": "NameError",
     "evalue": "name 'stop' is not defined",
     "output_type": "error",
     "traceback": [
      "\u001b[0;31m---------------------------------------------------------------------------\u001b[0m",
      "\u001b[0;31mNameError\u001b[0m                                 Traceback (most recent call last)",
      "\u001b[0;32m<ipython-input-39-4f76a9dad686>\u001b[0m in \u001b[0;36m<module>\u001b[0;34m\u001b[0m\n\u001b[0;32m----> 1\u001b[0;31m \u001b[0mstop\u001b[0m\u001b[0;34m\u001b[0m\u001b[0;34m\u001b[0m\u001b[0m\n\u001b[0m",
      "\u001b[0;31mNameError\u001b[0m: name 'stop' is not defined"
     ]
    }
   ],
   "source": [
    "stop"
   ]
  },
  {
   "cell_type": "markdown",
   "metadata": {},
   "source": [
    "# Get the peptides that are up in ctr \n",
    "(from supplemental table)"
   ]
  },
  {
   "cell_type": "code",
   "execution_count": null,
   "metadata": {},
   "outputs": [],
   "source": [
    "df3"
   ]
  },
  {
   "cell_type": "code",
   "execution_count": null,
   "metadata": {},
   "outputs": [],
   "source": [
    "df3_pep = df3[df3['peptide'].isin(all_inter)]\n",
    "df3_pep"
   ]
  },
  {
   "cell_type": "code",
   "execution_count": null,
   "metadata": {},
   "outputs": [],
   "source": [
    "ttest_df = df3_pep[['peptide', 'rapa.1','rapa.2','rapa.3','starv.1','starv.2','starv.3']]\n",
    "ttest_df = ttest_df.drop_duplicates(keep='first')\n",
    "\n",
    "ttest_df['rapa.1'].isna().sum()"
   ]
  },
  {
   "cell_type": "code",
   "execution_count": 54,
   "metadata": {},
   "outputs": [
    {
     "data": {
      "text/html": [
       "<div>\n",
       "<style scoped>\n",
       "    .dataframe tbody tr th:only-of-type {\n",
       "        vertical-align: middle;\n",
       "    }\n",
       "\n",
       "    .dataframe tbody tr th {\n",
       "        vertical-align: top;\n",
       "    }\n",
       "\n",
       "    .dataframe thead th {\n",
       "        text-align: right;\n",
       "    }\n",
       "</style>\n",
       "<table border=\"1\" class=\"dataframe\">\n",
       "  <thead>\n",
       "    <tr style=\"text-align: right;\">\n",
       "      <th></th>\n",
       "      <th>peptide</th>\n",
       "      <th>starv.1</th>\n",
       "      <th>starv.2</th>\n",
       "      <th>starv.3</th>\n",
       "    </tr>\n",
       "  </thead>\n",
       "  <tbody>\n",
       "    <tr>\n",
       "      <th>47</th>\n",
       "      <td>AAAAPGAS^PSPGGDAAWSEAGPGPRPLAR</td>\n",
       "      <td>-0.521</td>\n",
       "      <td>-0.355</td>\n",
       "      <td>-0.123</td>\n",
       "    </tr>\n",
       "    <tr>\n",
       "      <th>67</th>\n",
       "      <td>YHGHS^MSDPGVSYR</td>\n",
       "      <td>-0.166</td>\n",
       "      <td>-0.207</td>\n",
       "      <td>-0.284</td>\n",
       "    </tr>\n",
       "    <tr>\n",
       "      <th>69</th>\n",
       "      <td>ALES^PERPFLAILGGAK</td>\n",
       "      <td>-0.250</td>\n",
       "      <td>0.007</td>\n",
       "      <td>0.058</td>\n",
       "    </tr>\n",
       "    <tr>\n",
       "      <th>81</th>\n",
       "      <td>GTGQS^DDSDIWDDTALIK</td>\n",
       "      <td>-0.239</td>\n",
       "      <td>0.097</td>\n",
       "      <td>0.004</td>\n",
       "    </tr>\n",
       "    <tr>\n",
       "      <th>87</th>\n",
       "      <td>RGTGQS^DDS^DIWDDTALIK</td>\n",
       "      <td>-0.115</td>\n",
       "      <td>0.182</td>\n",
       "      <td>0.048</td>\n",
       "    </tr>\n",
       "    <tr>\n",
       "      <th>...</th>\n",
       "      <td>...</td>\n",
       "      <td>...</td>\n",
       "      <td>...</td>\n",
       "      <td>...</td>\n",
       "    </tr>\n",
       "    <tr>\n",
       "      <th>11222</th>\n",
       "      <td>AAS^LNYLNQPSAAPLQVSR</td>\n",
       "      <td>-0.222</td>\n",
       "      <td>0.053</td>\n",
       "      <td>0.090</td>\n",
       "    </tr>\n",
       "    <tr>\n",
       "      <th>11249</th>\n",
       "      <td>RPLEEDFRRS^PTEDFR</td>\n",
       "      <td>-0.263</td>\n",
       "      <td>-0.337</td>\n",
       "      <td>-0.221</td>\n",
       "    </tr>\n",
       "    <tr>\n",
       "      <th>11252</th>\n",
       "      <td>S^RS^PLGFYVHLK</td>\n",
       "      <td>-0.244</td>\n",
       "      <td>-0.032</td>\n",
       "      <td>0.066</td>\n",
       "    </tr>\n",
       "    <tr>\n",
       "      <th>11254</th>\n",
       "      <td>SRS^PLGFYVHLK</td>\n",
       "      <td>-0.107</td>\n",
       "      <td>0.003</td>\n",
       "      <td>-0.197</td>\n",
       "    </tr>\n",
       "    <tr>\n",
       "      <th>11281</th>\n",
       "      <td>GPGS^PPRT^PPAPGPPSFEEQLR</td>\n",
       "      <td>-0.212</td>\n",
       "      <td>-0.003</td>\n",
       "      <td>-0.075</td>\n",
       "    </tr>\n",
       "  </tbody>\n",
       "</table>\n",
       "<p>795 rows × 4 columns</p>\n",
       "</div>"
      ],
      "text/plain": [
       "                              peptide  starv.1  starv.2  starv.3\n",
       "47     AAAAPGAS^PSPGGDAAWSEAGPGPRPLAR   -0.521   -0.355   -0.123\n",
       "67                    YHGHS^MSDPGVSYR   -0.166   -0.207   -0.284\n",
       "69                 ALES^PERPFLAILGGAK   -0.250    0.007    0.058\n",
       "81                GTGQS^DDSDIWDDTALIK   -0.239    0.097    0.004\n",
       "87              RGTGQS^DDS^DIWDDTALIK   -0.115    0.182    0.048\n",
       "...                               ...      ...      ...      ...\n",
       "11222            AAS^LNYLNQPSAAPLQVSR   -0.222    0.053    0.090\n",
       "11249               RPLEEDFRRS^PTEDFR   -0.263   -0.337   -0.221\n",
       "11252                  S^RS^PLGFYVHLK   -0.244   -0.032    0.066\n",
       "11254                   SRS^PLGFYVHLK   -0.107    0.003   -0.197\n",
       "11281        GPGS^PPRT^PPAPGPPSFEEQLR   -0.212   -0.003   -0.075\n",
       "\n",
       "[795 rows x 4 columns]"
      ]
     },
     "execution_count": 54,
     "metadata": {},
     "output_type": "execute_result"
    }
   ],
   "source": [
    "ttest_df = df3_pep[['peptide', 'starv.1','starv.2','starv.3']]\n",
    "ttest_df = ttest_df.drop_duplicates(keep='first')\n",
    "\n",
    "ttest_df = ttest_df.dropna()\n",
    "\n",
    "# ttest_df = ttest_df.set_index('peptide')\n",
    "# ttest_df = ttest_df.T\n",
    "# ttest_df.reset_index(level=0, inplace=True)\n",
    "ttest_df"
   ]
  },
  {
   "cell_type": "code",
   "execution_count": 55,
   "metadata": {},
   "outputs": [
    {
     "data": {
      "text/plain": [
       "795"
      ]
     },
     "execution_count": 55,
     "metadata": {},
     "output_type": "execute_result"
    }
   ],
   "source": [
    "len(ttest_df['peptide'].unique())"
   ]
  },
  {
   "cell_type": "code",
   "execution_count": 50,
   "metadata": {},
   "outputs": [
    {
     "data": {
      "text/html": [
       "<div>\n",
       "<style scoped>\n",
       "    .dataframe tbody tr th:only-of-type {\n",
       "        vertical-align: middle;\n",
       "    }\n",
       "\n",
       "    .dataframe tbody tr th {\n",
       "        vertical-align: top;\n",
       "    }\n",
       "\n",
       "    .dataframe thead th {\n",
       "        text-align: right;\n",
       "    }\n",
       "</style>\n",
       "<table border=\"1\" class=\"dataframe\">\n",
       "  <thead>\n",
       "    <tr style=\"text-align: right;\">\n",
       "      <th>peptide</th>\n",
       "      <th>index</th>\n",
       "      <th>AAAAPGAS^PSPGGDAAWSEAGPGPRPLAR</th>\n",
       "      <th>YHGHS^MSDPGVSYR</th>\n",
       "      <th>ALES^PERPFLAILGGAK</th>\n",
       "      <th>GTGQS^DDSDIWDDTALIK</th>\n",
       "      <th>RGTGQS^DDS^DIWDDTALIK</th>\n",
       "      <th>RGTGQS^DDSDIWDDTALIK</th>\n",
       "      <th>QS^LGELIGTLNAAK</th>\n",
       "      <th>KQS^LGELIGTLNAAK</th>\n",
       "      <th>GYYS^PYSVSGSGSTAGSR</th>\n",
       "      <th>...</th>\n",
       "      <th>SS^PVPPVPER</th>\n",
       "      <th>GGMGS^GGLATGIAGGLAGMGGIQNEK</th>\n",
       "      <th>PVSSAASVYAGAGGS^GSR</th>\n",
       "      <th>S^TFSTNYR</th>\n",
       "      <th>SLGSVQAPSYGARPVSSAAS^VYAGAGGSGSR</th>\n",
       "      <th>AAS^LNYLNQPSAAPLQVSR</th>\n",
       "      <th>RPLEEDFRRS^PTEDFR</th>\n",
       "      <th>S^RS^PLGFYVHLK</th>\n",
       "      <th>SRS^PLGFYVHLK</th>\n",
       "      <th>GPGS^PPRT^PPAPGPPSFEEQLR</th>\n",
       "    </tr>\n",
       "  </thead>\n",
       "  <tbody>\n",
       "    <tr>\n",
       "      <th>0</th>\n",
       "      <td>rapa</td>\n",
       "      <td>0.200</td>\n",
       "      <td>0.208</td>\n",
       "      <td>0.386</td>\n",
       "      <td>0.413</td>\n",
       "      <td>0.479</td>\n",
       "      <td>0.181</td>\n",
       "      <td>0.722</td>\n",
       "      <td>0.516</td>\n",
       "      <td>-0.123</td>\n",
       "      <td>...</td>\n",
       "      <td>0.330</td>\n",
       "      <td>0.422</td>\n",
       "      <td>0.178</td>\n",
       "      <td>0.991</td>\n",
       "      <td>0.516</td>\n",
       "      <td>0.279</td>\n",
       "      <td>0.195</td>\n",
       "      <td>0.198</td>\n",
       "      <td>0.309</td>\n",
       "      <td>0.144</td>\n",
       "    </tr>\n",
       "    <tr>\n",
       "      <th>1</th>\n",
       "      <td>rapa</td>\n",
       "      <td>-0.050</td>\n",
       "      <td>0.146</td>\n",
       "      <td>0.359</td>\n",
       "      <td>0.418</td>\n",
       "      <td>0.419</td>\n",
       "      <td>0.011</td>\n",
       "      <td>0.604</td>\n",
       "      <td>0.306</td>\n",
       "      <td>0.102</td>\n",
       "      <td>...</td>\n",
       "      <td>0.298</td>\n",
       "      <td>0.114</td>\n",
       "      <td>0.183</td>\n",
       "      <td>-0.107</td>\n",
       "      <td>-0.283</td>\n",
       "      <td>0.348</td>\n",
       "      <td>0.297</td>\n",
       "      <td>0.601</td>\n",
       "      <td>0.329</td>\n",
       "      <td>0.381</td>\n",
       "    </tr>\n",
       "    <tr>\n",
       "      <th>2</th>\n",
       "      <td>rapa</td>\n",
       "      <td>-0.162</td>\n",
       "      <td>-0.629</td>\n",
       "      <td>0.038</td>\n",
       "      <td>0.024</td>\n",
       "      <td>0.116</td>\n",
       "      <td>-0.161</td>\n",
       "      <td>0.166</td>\n",
       "      <td>-0.036</td>\n",
       "      <td>0.246</td>\n",
       "      <td>...</td>\n",
       "      <td>-0.025</td>\n",
       "      <td>0.103</td>\n",
       "      <td>-0.079</td>\n",
       "      <td>0.308</td>\n",
       "      <td>-0.312</td>\n",
       "      <td>-0.070</td>\n",
       "      <td>-0.165</td>\n",
       "      <td>0.215</td>\n",
       "      <td>-0.107</td>\n",
       "      <td>0.065</td>\n",
       "    </tr>\n",
       "    <tr>\n",
       "      <th>3</th>\n",
       "      <td>starv</td>\n",
       "      <td>-0.521</td>\n",
       "      <td>-0.166</td>\n",
       "      <td>-0.250</td>\n",
       "      <td>-0.239</td>\n",
       "      <td>-0.115</td>\n",
       "      <td>-0.193</td>\n",
       "      <td>-0.070</td>\n",
       "      <td>0.060</td>\n",
       "      <td>-0.755</td>\n",
       "      <td>...</td>\n",
       "      <td>-0.304</td>\n",
       "      <td>-0.122</td>\n",
       "      <td>-0.241</td>\n",
       "      <td>0.089</td>\n",
       "      <td>-0.099</td>\n",
       "      <td>-0.222</td>\n",
       "      <td>-0.263</td>\n",
       "      <td>-0.244</td>\n",
       "      <td>-0.107</td>\n",
       "      <td>-0.212</td>\n",
       "    </tr>\n",
       "    <tr>\n",
       "      <th>4</th>\n",
       "      <td>starv</td>\n",
       "      <td>-0.355</td>\n",
       "      <td>-0.207</td>\n",
       "      <td>0.007</td>\n",
       "      <td>0.097</td>\n",
       "      <td>0.182</td>\n",
       "      <td>-0.167</td>\n",
       "      <td>-0.089</td>\n",
       "      <td>0.092</td>\n",
       "      <td>0.150</td>\n",
       "      <td>...</td>\n",
       "      <td>0.062</td>\n",
       "      <td>-0.038</td>\n",
       "      <td>-0.297</td>\n",
       "      <td>-0.094</td>\n",
       "      <td>-0.667</td>\n",
       "      <td>0.053</td>\n",
       "      <td>-0.337</td>\n",
       "      <td>-0.032</td>\n",
       "      <td>0.003</td>\n",
       "      <td>-0.003</td>\n",
       "    </tr>\n",
       "    <tr>\n",
       "      <th>5</th>\n",
       "      <td>starv</td>\n",
       "      <td>-0.123</td>\n",
       "      <td>-0.284</td>\n",
       "      <td>0.058</td>\n",
       "      <td>0.004</td>\n",
       "      <td>0.048</td>\n",
       "      <td>-0.107</td>\n",
       "      <td>0.075</td>\n",
       "      <td>0.010</td>\n",
       "      <td>-0.245</td>\n",
       "      <td>...</td>\n",
       "      <td>-0.080</td>\n",
       "      <td>-0.358</td>\n",
       "      <td>-0.259</td>\n",
       "      <td>0.066</td>\n",
       "      <td>-0.767</td>\n",
       "      <td>0.090</td>\n",
       "      <td>-0.221</td>\n",
       "      <td>0.066</td>\n",
       "      <td>-0.197</td>\n",
       "      <td>-0.075</td>\n",
       "    </tr>\n",
       "  </tbody>\n",
       "</table>\n",
       "<p>6 rows × 796 columns</p>\n",
       "</div>"
      ],
      "text/plain": [
       "peptide  index  AAAAPGAS^PSPGGDAAWSEAGPGPRPLAR  YHGHS^MSDPGVSYR  \\\n",
       "0         rapa                           0.200            0.208   \n",
       "1         rapa                          -0.050            0.146   \n",
       "2         rapa                          -0.162           -0.629   \n",
       "3        starv                          -0.521           -0.166   \n",
       "4        starv                          -0.355           -0.207   \n",
       "5        starv                          -0.123           -0.284   \n",
       "\n",
       "peptide  ALES^PERPFLAILGGAK  GTGQS^DDSDIWDDTALIK  RGTGQS^DDS^DIWDDTALIK  \\\n",
       "0                     0.386                0.413                  0.479   \n",
       "1                     0.359                0.418                  0.419   \n",
       "2                     0.038                0.024                  0.116   \n",
       "3                    -0.250               -0.239                 -0.115   \n",
       "4                     0.007                0.097                  0.182   \n",
       "5                     0.058                0.004                  0.048   \n",
       "\n",
       "peptide  RGTGQS^DDSDIWDDTALIK  QS^LGELIGTLNAAK  KQS^LGELIGTLNAAK  \\\n",
       "0                       0.181            0.722             0.516   \n",
       "1                       0.011            0.604             0.306   \n",
       "2                      -0.161            0.166            -0.036   \n",
       "3                      -0.193           -0.070             0.060   \n",
       "4                      -0.167           -0.089             0.092   \n",
       "5                      -0.107            0.075             0.010   \n",
       "\n",
       "peptide  GYYS^PYSVSGSGSTAGSR  ...  SS^PVPPVPER  GGMGS^GGLATGIAGGLAGMGGIQNEK  \\\n",
       "0                     -0.123  ...        0.330                        0.422   \n",
       "1                      0.102  ...        0.298                        0.114   \n",
       "2                      0.246  ...       -0.025                        0.103   \n",
       "3                     -0.755  ...       -0.304                       -0.122   \n",
       "4                      0.150  ...        0.062                       -0.038   \n",
       "5                     -0.245  ...       -0.080                       -0.358   \n",
       "\n",
       "peptide  PVSSAASVYAGAGGS^GSR  S^TFSTNYR  SLGSVQAPSYGARPVSSAAS^VYAGAGGSGSR  \\\n",
       "0                      0.178      0.991                             0.516   \n",
       "1                      0.183     -0.107                            -0.283   \n",
       "2                     -0.079      0.308                            -0.312   \n",
       "3                     -0.241      0.089                            -0.099   \n",
       "4                     -0.297     -0.094                            -0.667   \n",
       "5                     -0.259      0.066                            -0.767   \n",
       "\n",
       "peptide  AAS^LNYLNQPSAAPLQVSR  RPLEEDFRRS^PTEDFR  S^RS^PLGFYVHLK  \\\n",
       "0                       0.279              0.195           0.198   \n",
       "1                       0.348              0.297           0.601   \n",
       "2                      -0.070             -0.165           0.215   \n",
       "3                      -0.222             -0.263          -0.244   \n",
       "4                       0.053             -0.337          -0.032   \n",
       "5                       0.090             -0.221           0.066   \n",
       "\n",
       "peptide  SRS^PLGFYVHLK  GPGS^PPRT^PPAPGPPSFEEQLR  \n",
       "0                0.309                     0.144  \n",
       "1                0.329                     0.381  \n",
       "2               -0.107                     0.065  \n",
       "3               -0.107                    -0.212  \n",
       "4                0.003                    -0.003  \n",
       "5               -0.197                    -0.075  \n",
       "\n",
       "[6 rows x 796 columns]"
      ]
     },
     "execution_count": 50,
     "metadata": {},
     "output_type": "execute_result"
    }
   ],
   "source": [
    "ttest_df = df3_pep[['peptide', 'rapa.1','rapa.2','rapa.3','starv.1','starv.2','starv.3']]\n",
    "ttest_df = ttest_df.drop_duplicates(keep='first')\n",
    "ttest_df = ttest_df.rename(columns={'rapa.1':'rapa','rapa.2':'rapa','rapa.3':'rapa',\n",
    "                        'starv.1':'starv','starv.2':'starv','starv.3':'starv'})\n",
    "\n",
    "ttest_df = ttest_df.dropna()\n",
    "\n",
    "ttest_df = ttest_df.set_index('peptide')\n",
    "ttest_df = ttest_df.T\n",
    "ttest_df.reset_index(level=0, inplace=True)\n",
    "ttest_df"
   ]
  },
  {
   "cell_type": "code",
   "execution_count": null,
   "metadata": {},
   "outputs": [],
   "source": []
  },
  {
   "cell_type": "code",
   "execution_count": null,
   "metadata": {},
   "outputs": [],
   "source": [
    "ttest_df = df3_pep[['peptide', 'estr.1','estr.2','estr.3','starv.1','starv.2','starv.3']]\n",
    "ttest_df = ttest_df.drop_duplicates(keep='first')\n",
    "ttest_df = ttest_df.rename(columns={'estr.1':'estr','estr.2':'estr','estr.3':'estr',\n",
    "                        'starv.1':'starv','starv.2':'starv','starv.3':'starv'})\n",
    "\n",
    "ttest_df = ttest_df.dropna()\n",
    "\n",
    "ttest_df = ttest_df.set_index('peptide')\n",
    "ttest_df = ttest_df.T\n",
    "ttest_df.reset_index(level=0, inplace=True)\n",
    "ttest_df"
   ]
  },
  {
   "cell_type": "code",
   "execution_count": null,
   "metadata": {},
   "outputs": [],
   "source": [
    "wrap_ttest(ttest_df, label_column='index', comparison_columns=None, alpha=.05, equal_var=True, return_all=True, correction_method='fdr_bh', mincount=2, pval_return_corrected=True, quiet=False)\n"
   ]
  },
  {
   "cell_type": "code",
   "execution_count": null,
   "metadata": {},
   "outputs": [],
   "source": [
    "wrap_ttest(ttest_df, label_column='index', comparison_columns=None, alpha=.05, equal_var=True, return_all=True, correction_method='fdr_bh', mincount=2, pval_return_corrected=True, quiet=False)\n",
    "\n"
   ]
  },
  {
   "cell_type": "code",
   "execution_count": null,
   "metadata": {},
   "outputs": [],
   "source": [
    "dbug = df3_pep[df3_pep['peptide']=='GPGS^PPRT^PPAPGPPSFEEQLR']"
   ]
  },
  {
   "cell_type": "code",
   "execution_count": null,
   "metadata": {},
   "outputs": [],
   "source": [
    "import pandas as pd\n",
    "import numpy as np\n",
    "import scipy.stats\n",
    "\n",
    "import warnings\n",
    "import numpy as np\n",
    "\n",
    "import pandas as pd\n",
    "import numpy as np\n",
    "import scipy.stats\n",
    "import statsmodels.stats.multitest\n",
    "import operator\n",
    "import warnings\n",
    "\n",
    "def wrap_ttest(df, label_column, comparison_columns=None, alpha=.05, equal_var=True, return_all=False, correction_method='bonferroni', mincount=3, pval_return_corrected=True, quiet=False):\n",
    "    try:\n",
    "#         import pdb;pdb.set_trace()\n",
    "        '''Verify precondition that label column exists and has exactly 2 unique values'''\n",
    "        label_values = df[label_column].unique()\n",
    "        if len(label_values) != 2:\n",
    "            print(\"Incorrectly Formatted Dataframe! Label column must have exactly 2 unique values.\")\n",
    "            return None\n",
    "\n",
    "        '''Partition dataframe into two sets, one for each of the two unique values from the label column'''\n",
    "        partition1 = df.loc[df[label_column] == label_values[0]]\n",
    "        partition2 = df.loc[df[label_column] == label_values[1]]\n",
    "\n",
    "        '''If no comparison columns specified, use all columns except the specified labed column'''\n",
    "        if not comparison_columns:\n",
    "            comparison_columns = list(df.columns)\n",
    "            comparison_columns.remove(label_column)\n",
    "\n",
    "        '''Determine the number of real valued columns on which we will do t-tests'''\n",
    "        number_of_comparisons = len(comparison_columns)\n",
    "\n",
    "        '''Store comparisons and p-values in two arrays'''\n",
    "        comparisons = []\n",
    "        pvals = []\n",
    "\n",
    "        '''Loop through each comparison column, perform the t-test, and record the p-val'''\n",
    "\n",
    "        for column in comparison_columns:\n",
    "#             import pdb;pdb.set_trace()\n",
    "            if len(partition1[column].dropna(axis=0)) <= mincount:\n",
    "                continue\n",
    "            elif len(partition2[column].dropna(axis=0)) <= mincount:\n",
    "                continue\n",
    "            else:\n",
    "                group1 = partition1[column].dropna(axis=0)\n",
    "                group2 = partition2[column].dropna(axis=0)\n",
    "\n",
    "                if (np.std(group1) == 0 or np.std(group2) == 0) and not quiet:\n",
    "                    warnings.warn(f\"At least one group for column {column} had a standard deviation of zero.\", StDevWarning)\n",
    "\n",
    "                stat, pval = scipy.stats.ttest_ind(\n",
    "                    a=group1,\n",
    "                    b=group2, \n",
    "                    equal_var=equal_var\n",
    "                )\n",
    "\n",
    "                if pd.notna(pval):\n",
    "                    comparisons.append(column)\n",
    "                    pvals.append(pval)\n",
    "                elif not quiet:\n",
    "                    warnings.warn(f\"pval for column {column} was NaN. pval dropped.\", PvalWarning)\n",
    "        \n",
    "#         import pdb;pdb.set_trace()\n",
    "        if len(pvals) == 0: # None of the groups had enough members to pass the mincount\n",
    "            raise InvalidParameterError(\"No groups had enough members to pass mincount; no tests run.\")\n",
    "\n",
    "#         import pdb;pdb.set_trace()\n",
    "        '''Correct for multiple testing to determine if each comparison meets the new cutoff'''\n",
    "        results = statsmodels.stats.multitest.multipletests(pvals=pvals, alpha=alpha, method=correction_method)\n",
    "        reject = results[0]\n",
    "\n",
    "        '''Format results in a pandas dataframe'''\n",
    "        results_df = pd.DataFrame(columns=['Comparison','P_Value'])\n",
    "\n",
    "        '''If return all, add all comparisons and p-values to dataframe'''\n",
    "        if return_all:\n",
    "            \n",
    "            if pval_return_corrected:\n",
    "                results_df['Comparison'] = comparisons\n",
    "                results_df['P_Value'] = results[1]\n",
    "\n",
    "            else:\n",
    "                results_df['Comparison'] = comparisons\n",
    "                results_df['P_Value'] = pvals\n",
    "\n",
    "        \n",
    "            '''Else only add significant comparisons'''\n",
    "        else:\n",
    "            \n",
    "            for i in range(0, len(reject)):\n",
    "                if reject[i]:\n",
    "                    if pval_return_corrected:\n",
    "                        results_df = results_df.append({'Comparison':comparisons[i],'P_Value':results[1][i]}, ignore_index=True)\n",
    "                    else:\n",
    "                        results_df = results_df.append({'Comparison':comparisons[i],'P_Value':pvals[i]}, ignore_index=True)\n",
    "        \n",
    "        '''Sort dataframe by ascending p-value'''\n",
    "        results_df = results_df.sort_values(by='P_Value', ascending=True)\n",
    "        results_df = results_df.reset_index(drop=True)\n",
    "\n",
    "        '''If results df is not empty, return it, else return None'''\n",
    "        if len(results_df) > 0:\n",
    "            return results_df\n",
    "        else:\n",
    "            return None\n",
    "\n",
    "\n",
    "    except:\n",
    "        print(\"Incorrectly Formatted Dataframe!\")\n",
    "        return None"
   ]
  },
  {
   "cell_type": "code",
   "execution_count": null,
   "metadata": {},
   "outputs": [],
   "source": []
  },
  {
   "cell_type": "code",
   "execution_count": null,
   "metadata": {},
   "outputs": [],
   "source": [
    "pnnl_df1.head()\n"
   ]
  },
  {
   "cell_type": "code",
   "execution_count": null,
   "metadata": {},
   "outputs": [],
   "source": [
    "get_values(1110.9645, 15.570710, mzml1)['intensity'].max()"
   ]
  },
  {
   "cell_type": "code",
   "execution_count": null,
   "metadata": {},
   "outputs": [],
   "source": [
    "get_values(1110.9645, 15.570710, mzml1)"
   ]
  },
  {
   "cell_type": "code",
   "execution_count": null,
   "metadata": {},
   "outputs": [],
   "source": [
    "\n",
    "\n"
   ]
  },
  {
   "cell_type": "code",
   "execution_count": null,
   "metadata": {},
   "outputs": [],
   "source": []
  },
  {
   "cell_type": "code",
   "execution_count": null,
   "metadata": {},
   "outputs": [],
   "source": [
    "#format and sort by intensities"
   ]
  },
  {
   "cell_type": "code",
   "execution_count": null,
   "metadata": {},
   "outputs": [],
   "source": [
    "formated_df1 = df1[['Full Sequence','File Name','Scan Retention Time','Total Ion Current']]\n",
    "\n",
    "\n",
    "#sort by intesnity\n",
    "formated_df1 = formated_df1.sort_values('Total Ion Current', ascending = False)\n",
    "\n",
    "#get the intersection\n",
    "formated_df1 = formated_df1[formated_df1['Base Sequence'].isin(list3)]\n",
    "formated_df1"
   ]
  },
  {
   "cell_type": "code",
   "execution_count": null,
   "metadata": {},
   "outputs": [],
   "source": [
    "import statistics\n",
    "def average_intesnities(row):\n",
    "    return statistics.mean([row['Incubator_1'],row['Incubator_2'],row['Incubator_3'],row['Incubator_4']])\n",
    "\n",
    "\n",
    "formated_df2 = df2[['Peptide','pep_mod','protein','best_tR','m_z', 'Incubator_1','Incubator_2','Incubator_3','Incubator_4']]\n",
    "formated_df2\n",
    "\n",
    "    \n",
    "formated_df2['intensity'] = formated_df2.apply(average_intesnities, axis=1)\n",
    "\n",
    "\n",
    "#sort by intesnity\n",
    "formated_df2 = formated_df2.sort_values('intensity', ascending = False)\n",
    "\n",
    "#get the intersection\n",
    "formated_df2 = formated_df2[formated_df2['Peptide'].isin(list3)]\n",
    "formated_df2"
   ]
  },
  {
   "cell_type": "code",
   "execution_count": null,
   "metadata": {},
   "outputs": [],
   "source": []
  },
  {
   "cell_type": "code",
   "execution_count": null,
   "metadata": {},
   "outputs": [],
   "source": [
    "# PXD013503"
   ]
  },
  {
   "cell_type": "code",
   "execution_count": null,
   "metadata": {},
   "outputs": [],
   "source": []
  },
  {
   "cell_type": "code",
   "execution_count": null,
   "metadata": {},
   "outputs": [],
   "source": [
    "df3"
   ]
  },
  {
   "cell_type": "code",
   "execution_count": null,
   "metadata": {},
   "outputs": [],
   "source": [
    "row = df3.iloc[0]\n",
    "peptide_mod_on = row['Peptide'][:1] + row['Peptide'][-1:]\n",
    "row['Peptide'][1:-1]"
   ]
  },
  {
   "cell_type": "code",
   "execution_count": null,
   "metadata": {},
   "outputs": [],
   "source": [
    "row['Peptide'][:1]+row['Peptide'][-1:]"
   ]
  },
  {
   "cell_type": "code",
   "execution_count": null,
   "metadata": {},
   "outputs": [],
   "source": [
    "#split peptide into normal pepride and column with modification\n",
    "def reformat_peptide_column(row):\n",
    "    "
   ]
  },
  {
   "cell_type": "code",
   "execution_count": null,
   "metadata": {},
   "outputs": [],
   "source": []
  },
  {
   "cell_type": "code",
   "execution_count": null,
   "metadata": {},
   "outputs": [],
   "source": [
    "#used to download mzmls and psms\n",
    "# import ppx\n",
    "\n",
    "# proj = ppx.find_project(\"PXD013503\")\n",
    "# # mzmls = proj.remote_files('*.mzML.gz')\n",
    "# # proj.download(mzmls)\n",
    "\n",
    "# mzids = proj.remote_files('*.mzid.gz')\n",
    "# proj.download(mzids)"
   ]
  }
 ],
 "metadata": {
  "kernelspec": {
   "display_name": "Python 3",
   "language": "python",
   "name": "python3"
  },
  "language_info": {
   "codemirror_mode": {
    "name": "ipython",
    "version": 3
   },
   "file_extension": ".py",
   "mimetype": "text/x-python",
   "name": "python",
   "nbconvert_exporter": "python",
   "pygments_lexer": "ipython3",
   "version": "3.8.3"
  }
 },
 "nbformat": 4,
 "nbformat_minor": 4
}
