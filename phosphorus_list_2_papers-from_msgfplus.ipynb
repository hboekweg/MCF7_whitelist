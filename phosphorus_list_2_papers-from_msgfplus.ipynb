{
 "cells": [
  {
   "cell_type": "code",
   "execution_count": 1,
   "metadata": {},
   "outputs": [],
   "source": [
    "import pandas as pd\n",
    "import re"
   ]
  },
  {
   "cell_type": "code",
   "execution_count": 18,
   "metadata": {},
   "outputs": [],
   "source": [
    "# df1_gln = pd.read_csv('/Volumes/LaCie/phospho_white_list/PXD006449/2021-08-24-14-06-06/Task2-search/Individual File Results/20130426_SK_SA_marta_phospho_8_gln_1_PSMs.psmtsv',sep='\\t')\n",
    "\n",
    "# df1 = pd.read_csv('/Volumes/LaCie/phospho_white_list/PXD006449/2021-08-24-14-06-06/Task2-search/Individual File Results/20130426_SK_SA_marta_phospho_8_1_PSMs.psmtsv',sep='\\t')\n",
    "# df1['dataset'] = 'PXD006449'\n",
    "\n",
    "df1_gln = pd.read_csv('PXD006449/20130426_SK_SA_marta_phospho_8_gln_1_PSMs.psmtsv',sep='\\t')\n",
    "\n",
    "df1 = pd.read_csv('PXD006449/20130426_SK_SA_marta_phospho_8_1_PSMs.psmtsv',sep='\\t')\n",
    "\n",
    "\n",
    "# xls = pd.ExcelFile('/Volumes/LaCie/phospho_white_list/PXD000472/Supplementary_Dataset_1.xlsx')\n",
    "xls = pd.ExcelFile('PXD000472/Supplementary_Dataset_1.xlsx')\n",
    "df2 = pd.read_excel(xls, 'Phosphopeptide Features')\n",
    "\n",
    "\n",
    "# df3 = pd.read_csv('PXD013503/Holz_MCF7_TMT_PP_01_17Nov17_Elm_AQ-17-10-03_msgfplus.tsv', sep='\\t')\n",
    "df3 = pd.read_excel('144972_1_supp_335637_prw13z.xlsx')\n"
   ]
  },
  {
   "cell_type": "markdown",
   "metadata": {},
   "source": [
    "There are 3 datasets:\n",
    "\n",
    "    PXD006449:\n",
    "        3 growth conditions, 8hr and 24hr.\n",
    "        MEM with gln - control\n",
    "        MEM without gln - stress, loss of natural c source\n",
    "        MEM with gln and Oligomyocin - tumor/hypoxia simulation\n",
    "\n",
    "    PXD000472:\n",
    "        2 air/temp conditions.\n",
    "        control, 15 min, 2hr.\n",
    "\n",
    "    PXD013503:\n",
    "        Phosphoproteomic data from human MCF-7 cells treated with estrogen only or estrogen plus rapamycin, an mTOR inhibitor.\n",
    "\n",
    "\n",
    "    Each one indicates modifications differently. \n",
    "        Metamopheus: [Common Biological:Phosphorylation on S]\n",
    "        MSGFPlus: K.+229.163DEDS+79.966DDDDGS+79.966S+79.966AGC\n",
    "        MaxQuant: SAS^PY^PSHSLS^SPQRPSHSLS^\n",
    "\n",
    "We are going to format them using the S^ method. "
   ]
  },
  {
   "cell_type": "code",
   "execution_count": 19,
   "metadata": {},
   "outputs": [],
   "source": [
    "#S^ s is phosphorylated\n",
    "#S+79\n",
    "#[phos on S]\n",
    "\n",
    "def format_MM_mod(row):\n",
    "    peptide = row['Full Sequence']\n",
    "    newpep = re.sub('\\[.*?\\]', \"^\",peptide)\n",
    "    return newpep\n",
    "\n",
    "# +229: TMT on N terminal\n",
    "# Just get rid of this (the +229)\n",
    "def format_msgf_mod(row):\n",
    "#     import pdb;pdb.set_trace()\n",
    "    peptide = row['Peptide']\n",
    "    newpep = re.sub('\\+[\\d+\\.]+', \"^\", peptide)\n",
    "    if newpep[0:1] == '^':\n",
    "        newpep = newpep[1:]\n",
    "        \n",
    "    return newpep\n",
    "\n",
    "def format_013503_mod(row):\n",
    "    peptide = row['Peptide']\n",
    "    newpep = re.sub('\\*', \"^\", peptide)\n",
    "    #remove the .\n",
    "    newpep = newpep[:-2]\n",
    "    newpep = newpep[2:]\n",
    "    if newpep[0:1] == '^':\n",
    "        newpep = newpep[1:]\n",
    "        \n",
    "    return newpep\n",
    " "
   ]
  },
  {
   "cell_type": "code",
   "execution_count": 20,
   "metadata": {},
   "outputs": [],
   "source": [
    "df1['peptide'] = df1.apply(format_MM_mod, axis=1)\n",
    "df1_gln['peptide'] = df1_gln.apply(format_MM_mod, axis=1)\n",
    "df2['peptide'] = df2['pSequence']\n",
    "# df3['peptide'] = df3.apply(format_msgf_mod, axis=1)\n",
    "df3['peptide'] = df3.apply(format_013503_mod, axis=1)\n",
    "\n"
   ]
  },
  {
   "cell_type": "code",
   "execution_count": 5,
   "metadata": {},
   "outputs": [],
   "source": [
    "#Now they're all formated the same, lets get a list of intersecting peptides"
   ]
  },
  {
   "cell_type": "code",
   "execution_count": 21,
   "metadata": {},
   "outputs": [],
   "source": [
    "df1_list = list(set(df1['peptide']) & set(df1_gln['peptide']))\n",
    "df1_df2 = list(set(df1_list) & set(df2['peptide']))\n",
    "df2_df3 = list(set(df2['peptide']) & set(df3['peptide']))\n",
    "df1_df3 = list(set(df1_list) & set(df3['peptide']))\n",
    "df1_df2_df3 = list(set(df1_list) & set(df2['peptide']) & set(df3['peptide']))"
   ]
  },
  {
   "cell_type": "code",
   "execution_count": 22,
   "metadata": {},
   "outputs": [
    {
     "name": "stdout",
     "output_type": "stream",
     "text": [
      "4440\n",
      "2977\n",
      "10718\n",
      "\n",
      "4013\n",
      "2108\n",
      "9901\n",
      "\n",
      "287\n",
      "677\n",
      "235\n",
      "95\n"
     ]
    }
   ],
   "source": [
    "print(len(df1_list))\n",
    "print(len(set(df2['peptide'])))\n",
    "print(len(set(df3['peptide'])))\n",
    "\n",
    "print()\n",
    "print(len(set(df1_list).difference(*[list(df2['peptide'].unique()),list(df3['peptide'].unique())])))\n",
    "print(len(set(df2['peptide'].unique()).difference(*[list(df1_list),list(df3['peptide'].unique())])))\n",
    "print(len(set(df3['peptide'].unique()).difference(*[list(df1_list),list(df2['peptide'].unique())])))\n",
    "\n",
    "\n",
    "print()\n",
    "print(len(df1_df2))\n",
    "print(len(df2_df3))\n",
    "print(len(df1_df3))\n",
    "print(len(df1_df2_df3))"
   ]
  },
  {
   "cell_type": "code",
   "execution_count": 7,
   "metadata": {},
   "outputs": [
    {
     "data": {
      "text/plain": [
       "<matplotlib_venn._common.VennDiagram at 0x11dd1aac0>"
      ]
     },
     "execution_count": 7,
     "metadata": {},
     "output_type": "execute_result"
    },
    {
     "data": {
      "image/png": "[encoded data removed]",
      "text/plain": [
       "<Figure size 432x288 with 1 Axes>"
      ]
     },
     "metadata": {},
     "output_type": "display_data"
    }
   ],
   "source": [
    "from matplotlib_venn import venn3\n",
    "venn3(subsets = (4013, 2108 , 287,\n",
    "                 9901,\n",
    "                 235, 677,\n",
    "                 95\n",
    "                ), set_labels = ('PXD006449', 'PXD000472', 'PXD013503'))"
   ]
  },
  {
   "cell_type": "markdown",
   "metadata": {},
   "source": [
    "## Get a list of all intersections"
   ]
  },
  {
   "cell_type": "code",
   "execution_count": 9,
   "metadata": {},
   "outputs": [
    {
     "data": {
      "text/plain": [
       "1007"
      ]
     },
     "execution_count": 9,
     "metadata": {},
     "output_type": "execute_result"
    }
   ],
   "source": [
    "95+235+677"
   ]
  },
  {
   "cell_type": "code",
   "execution_count": 9,
   "metadata": {},
   "outputs": [
    {
     "data": {
      "text/plain": [
       "817"
      ]
     },
     "execution_count": 9,
     "metadata": {},
     "output_type": "execute_result"
    }
   ],
   "source": [
    "all_inter = set(df2_df3 + df1_df3 + df1_df2_df3)\n",
    "len(all_inter)"
   ]
  },
  {
   "cell_type": "markdown",
   "metadata": {},
   "source": [
    "# Get intensities"
   ]
  },
  {
   "cell_type": "code",
   "execution_count": 3,
   "metadata": {},
   "outputs": [],
   "source": [
    "import pyteomics\n",
    "from pyteomics import mzml, auxiliary\n",
    "\n"
   ]
  },
  {
   "cell_type": "code",
   "execution_count": 55,
   "metadata": {},
   "outputs": [],
   "source": [
    "def get_precursor_inten(row, mzml, col_scan_Name):\n",
    "    scan = str(row[col_scan_Name])\n",
    "    my_id = 'controllerType=0 controllerNumber=1 scan='+ str(scan)\n",
    "    spectrum_dict = mzml.get_by_id(my_id)\n",
    "\n",
    "    spectrum_id = spectrum_dict['id']\n",
    "    retention_time = (spectrum_dict['scanList']['scan'][0].get('scan start time', -1))\n",
    "    precursor = spectrum_dict['precursorList']['precursor'][0]\n",
    "    precursor_ion = precursor['selectedIonList']['selectedIon'][0]\n",
    "    precursor_mz = precursor_ion['selected ion m/z']\n",
    "    if len(precursor_ion) >=3:\n",
    "        precursor_intensity = precursor_ion['peak intensity']\n",
    "    else: \n",
    "        precursor_intensity = \"NAN\"\n",
    "    \n",
    "    return precursor_intensity\n",
    "def get_retention_time(row, mzml, col_scan_Name):\n",
    "    scan = str(row[col_scan_Name])\n",
    "    my_id = 'controllerType=0 controllerNumber=1 scan='+ str(scan)\n",
    "    spectrum_dict = mzml.get_by_id(my_id)\n",
    "\n",
    "    spectrum_id = spectrum_dict['id']\n",
    "    retention_time = (spectrum_dict['scanList']['scan'][0].get('scan start time', -1))\n",
    "    \n",
    "    return retention_time"
   ]
  },
  {
   "cell_type": "markdown",
   "metadata": {},
   "source": [
    "# PXD006449"
   ]
  },
  {
   "cell_type": "code",
   "execution_count": 110,
   "metadata": {},
   "outputs": [
    {
     "name": "stderr",
     "output_type": "stream",
     "text": [
      "<ipython-input-110-2225e2d7d5f3>:4: SettingWithCopyWarning: \n",
      "A value is trying to be set on a copy of a slice from a DataFrame.\n",
      "Try using .loc[row_indexer,col_indexer] = value instead\n",
      "\n",
      "See the caveats in the documentation: https://pandas.pydata.org/pandas-docs/stable/user_guide/indexing.html#returning-a-view-versus-a-copy\n",
      "  pdx6449['peptide'] = pdx6449.apply(format_msgf_mod, axis=1)\n",
      "<ipython-input-110-2225e2d7d5f3>:6: SettingWithCopyWarning: \n",
      "A value is trying to be set on a copy of a slice from a DataFrame.\n",
      "Try using .loc[row_indexer,col_indexer] = value instead\n",
      "\n",
      "See the caveats in the documentation: https://pandas.pydata.org/pandas-docs/stable/user_guide/indexing.html#returning-a-view-versus-a-copy\n",
      "  pdx6449['precursor_intensity'] = pdx6449.apply(lambda row: get_precursor_inten(row, mzml6449, 'ScanNum'), axis=1)\n",
      "<ipython-input-110-2225e2d7d5f3>:7: SettingWithCopyWarning: \n",
      "A value is trying to be set on a copy of a slice from a DataFrame.\n",
      "Try using .loc[row_indexer,col_indexer] = value instead\n",
      "\n",
      "See the caveats in the documentation: https://pandas.pydata.org/pandas-docs/stable/user_guide/indexing.html#returning-a-view-versus-a-copy\n",
      "  pdx6449['retention_time'] = pdx6449.apply(lambda row: get_retention_time(row, mzml6449, 'ScanNum'), axis=1)\n"
     ]
    }
   ],
   "source": [
    "PXD006449 = pd.read_csv('PXD006449/tsvs/20130426_SK_SA_marta_phospho_8_1.tsv', sep='\\t')\n",
    "pdx6449 = PXD006449[PXD006449['QValue'] <= .01]\n",
    "\n",
    "pdx6449['peptide'] = pdx6449.apply(format_msgf_mod, axis=1)\n",
    "mzml6449 = pyteomics.mzml.MzML('PXD006449/mzmls/20130426_SK_SA_marta_phospho_8_1.mzML')\n",
    "pdx6449['precursor_intensity'] = pdx6449.apply(lambda row: get_precursor_inten(row, mzml6449, 'ScanNum'), axis=1)\n",
    "pdx6449['retention_time'] = pdx6449.apply(lambda row: get_retention_time(row, mzml6449, 'ScanNum'), axis=1)\n",
    "\n",
    "pdx6449_rep1 = pdx6449[['Protein', 'peptide','QValue', 'ScanNum', 'Precursor', 'precursor_intensity', 'retention_time']]\n",
    "\n",
    "pdx6449_rep1.to_csv(\"PXD006449/pdx6449_rep1\", sep='\\t')"
   ]
  },
  {
   "cell_type": "code",
   "execution_count": 75,
   "metadata": {},
   "outputs": [],
   "source": [
    "PXD006449 = pd.read_csv('PXD006449/tsvs/20130426_SK_SA_marta_phospho_8_2.tsv', sep='\\t')\n",
    "pdx6449 = PXD006449[PXD006449['QValue'] <= .01]\n",
    "\n",
    "pdx6449['peptide'] = pdx6449.apply(format_msgf_mod, axis=1)\n",
    "mzml6449 = pyteomics.mzml.MzML('PXD006449/mzmls/20130426_SK_SA_marta_phospho_8_2.mzML')\n",
    "pdx6449['precursor_intensity'] = pdx6449.apply(lambda row: get_precursor_inten(row, mzml6449, 'ScanNum'), axis=1)\n",
    "pdx6449['retention_time'] = pdx6449.apply(lambda row: get_retention_time(row, mzml6449, 'ScanNum'), axis=1)\n",
    "\n",
    "pdx6449_rep2 = pdx6449[['Protein', 'peptide','QValue', 'ScanNum', 'Precursor', 'precursor_intensity', 'retention_time']]\n",
    "\n",
    "\n",
    "pdx6449_rep2.to_csv(\"PXD006449/pdx6449_rep2\", sep='\\t')"
   ]
  },
  {
   "cell_type": "code",
   "execution_count": 60,
   "metadata": {},
   "outputs": [
    {
     "name": "stdout",
     "output_type": "stream",
     "text": [
      "500 304\n"
     ]
    }
   ],
   "source": [
    "pdx6449Rep1_pnnl = list(set(pdx6449_rep1['peptide']) & set(df3['peptide']))\n",
    "pdx6449Rep2_pnnl = list(set(pdx6449_rep2['peptide']) & set(df3['peptide']))\n",
    "\n",
    "print(len(pdx6449Rep1_pnnl), len(pdx6449Rep2_pnnl))"
   ]
  },
  {
   "cell_type": "code",
   "execution_count": 89,
   "metadata": {},
   "outputs": [
    {
     "name": "stdout",
     "output_type": "stream",
     "text": [
      "181\n"
     ]
    }
   ],
   "source": [
    "#in both replicates and in pnnl study\n",
    "pdx6449_in_all = list(set(pdx6449Rep1_pnnl) & set(pdx6449Rep2_pnnl))\n",
    "print(len(pdx6449_in_all))"
   ]
  },
  {
   "cell_type": "code",
   "execution_count": 107,
   "metadata": {},
   "outputs": [
    {
     "data": {
      "text/plain": [
       "623"
      ]
     },
     "execution_count": 107,
     "metadata": {},
     "output_type": "execute_result"
    }
   ],
   "source": [
    "len(list(set(pdx6449Rep1_pnnl).union(set(pdx6449Rep2_pnnl))))"
   ]
  },
  {
   "cell_type": "code",
   "execution_count": null,
   "metadata": {},
   "outputs": [],
   "source": []
  },
  {
   "cell_type": "code",
   "execution_count": 112,
   "metadata": {},
   "outputs": [],
   "source": [
    "pdx6449_rep1 = pdx6449_rep1[pdx6449_rep1['peptide'].isin(pdx6449Rep1_pnnl)]\n",
    "pdx6449_rep1 = pdx6449_rep1.sort_values('precursor_intensity', ascending=False) \n",
    "pdx6449_rep2 = pdx6449_rep2[pdx6449_rep2['peptide'].isin(pdx6449Rep2_pnnl)]\n",
    "pdx6449_rep2 = pdx6449_rep2.sort_values('precursor_intensity', ascending=False) \n",
    "\n",
    "\n",
    "\n",
    "pdx6449_rep1.to_csv(\"PXD006449/PXD006449_rep1\", sep='\\t')\n",
    "pdx6449_rep2.to_csv(\"PXD006449/PXD006449_rep2\", sep='\\t')"
   ]
  },
  {
   "cell_type": "code",
   "execution_count": 96,
   "metadata": {},
   "outputs": [
    {
     "data": {
      "text/html": [
       "<div>\n",
       "<style scoped>\n",
       "    .dataframe tbody tr th:only-of-type {\n",
       "        vertical-align: middle;\n",
       "    }\n",
       "\n",
       "    .dataframe tbody tr th {\n",
       "        vertical-align: top;\n",
       "    }\n",
       "\n",
       "    .dataframe thead th {\n",
       "        text-align: right;\n",
       "    }\n",
       "</style>\n",
       "<table border=\"1\" class=\"dataframe\">\n",
       "  <thead>\n",
       "    <tr style=\"text-align: right;\">\n",
       "      <th></th>\n",
       "      <th>Protein</th>\n",
       "      <th>peptide</th>\n",
       "      <th>QValue</th>\n",
       "      <th>ScanNum</th>\n",
       "      <th>Precursor</th>\n",
       "      <th>precursor_intensity</th>\n",
       "      <th>retention_time</th>\n",
       "    </tr>\n",
       "  </thead>\n",
       "  <tbody>\n",
       "    <tr>\n",
       "      <th>0</th>\n",
       "      <td>sp|P22626|ROA2_HUMAN(pre=R,post=G)</td>\n",
       "      <td>GFGDGYNGYGGGPGGGNFGGS^PGYGGGR</td>\n",
       "      <td>0.000000</td>\n",
       "      <td>55993</td>\n",
       "      <td>1288.01390</td>\n",
       "      <td>1.27361e+06</td>\n",
       "      <td>145.204910</td>\n",
       "    </tr>\n",
       "    <tr>\n",
       "      <th>1</th>\n",
       "      <td>sp|P43307|SSRA_HUMAN(pre=K,post=R)</td>\n",
       "      <td>VEMGTSSQNDVDMSWIPQETLNQINKAS^PR</td>\n",
       "      <td>0.000000</td>\n",
       "      <td>80256</td>\n",
       "      <td>1152.53100</td>\n",
       "      <td>2.19076e+06</td>\n",
       "      <td>205.637550</td>\n",
       "    </tr>\n",
       "    <tr>\n",
       "      <th>2</th>\n",
       "      <td>sp|Q8IYB3|SRRM1_HUMAN(pre=K,post=A)</td>\n",
       "      <td>KPPAPPS^PVQSQS^PSTNWSPAVPVKK</td>\n",
       "      <td>0.000000</td>\n",
       "      <td>43187</td>\n",
       "      <td>957.80680</td>\n",
       "      <td>979857</td>\n",
       "      <td>113.586570</td>\n",
       "    </tr>\n",
       "    <tr>\n",
       "      <th>3</th>\n",
       "      <td>sp|P06733|ENOA_HUMAN(pre=K,post=F)</td>\n",
       "      <td>SFIKDYPVVSIEDPFDQDDWGAWQK</td>\n",
       "      <td>0.000000</td>\n",
       "      <td>87234</td>\n",
       "      <td>1493.21010</td>\n",
       "      <td>2.16843e+06</td>\n",
       "      <td>223.188150</td>\n",
       "    </tr>\n",
       "    <tr>\n",
       "      <th>4</th>\n",
       "      <td>sp|P04406|G3P_HUMAN(pre=K,post=T)</td>\n",
       "      <td>VIHDNFGIVEGLM^TTVHAITATQK</td>\n",
       "      <td>0.000000</td>\n",
       "      <td>77121</td>\n",
       "      <td>653.59620</td>\n",
       "      <td>1.69217e+06</td>\n",
       "      <td>197.771340</td>\n",
       "    </tr>\n",
       "    <tr>\n",
       "      <th>...</th>\n",
       "      <td>...</td>\n",
       "      <td>...</td>\n",
       "      <td>...</td>\n",
       "      <td>...</td>\n",
       "      <td>...</td>\n",
       "      <td>...</td>\n",
       "      <td>...</td>\n",
       "    </tr>\n",
       "    <tr>\n",
       "      <th>11242</th>\n",
       "      <td>sp|O95994|AGR2_HUMAN(pre=K,post=K)</td>\n",
       "      <td>TSNKPLMIIHHLDEC^PHSQALK</td>\n",
       "      <td>0.009958</td>\n",
       "      <td>25669</td>\n",
       "      <td>857.44037</td>\n",
       "      <td>247029</td>\n",
       "      <td>70.335208</td>\n",
       "    </tr>\n",
       "    <tr>\n",
       "      <th>11243</th>\n",
       "      <td>sp|Q6ZRV2|FA83H_HUMAN(pre=R,post=E)</td>\n",
       "      <td>HLRPPQYVTR</td>\n",
       "      <td>0.009958</td>\n",
       "      <td>8777</td>\n",
       "      <td>422.90820</td>\n",
       "      <td>571661</td>\n",
       "      <td>28.131130</td>\n",
       "    </tr>\n",
       "    <tr>\n",
       "      <th>11244</th>\n",
       "      <td>sp|P60228|EIF3E_HUMAN(pre=K,post=Y)</td>\n",
       "      <td>HGFRQEYLDTLYR</td>\n",
       "      <td>0.009958</td>\n",
       "      <td>31999</td>\n",
       "      <td>425.21720</td>\n",
       "      <td>184769</td>\n",
       "      <td>85.958851</td>\n",
       "    </tr>\n",
       "    <tr>\n",
       "      <th>11245</th>\n",
       "      <td>sp|O75369|FLNB_HUMAN(pre=K,post=R)</td>\n",
       "      <td>FNDEHIPESPYLVPVIAPSDDAR</td>\n",
       "      <td>0.009958</td>\n",
       "      <td>67748</td>\n",
       "      <td>861.42926</td>\n",
       "      <td>320616</td>\n",
       "      <td>174.406110</td>\n",
       "    </tr>\n",
       "    <tr>\n",
       "      <th>11246</th>\n",
       "      <td>sp|O43390|HNRPR_HUMAN(pre=K,post=G)</td>\n",
       "      <td>LKDYAFVHFEDR</td>\n",
       "      <td>0.009958</td>\n",
       "      <td>33196</td>\n",
       "      <td>385.69730</td>\n",
       "      <td>132348</td>\n",
       "      <td>88.923854</td>\n",
       "    </tr>\n",
       "  </tbody>\n",
       "</table>\n",
       "<p>11247 rows × 7 columns</p>\n",
       "</div>"
      ],
      "text/plain": [
       "                                   Protein                          peptide  \\\n",
       "0       sp|P22626|ROA2_HUMAN(pre=R,post=G)    GFGDGYNGYGGGPGGGNFGGS^PGYGGGR   \n",
       "1       sp|P43307|SSRA_HUMAN(pre=K,post=R)  VEMGTSSQNDVDMSWIPQETLNQINKAS^PR   \n",
       "2      sp|Q8IYB3|SRRM1_HUMAN(pre=K,post=A)     KPPAPPS^PVQSQS^PSTNWSPAVPVKK   \n",
       "3       sp|P06733|ENOA_HUMAN(pre=K,post=F)        SFIKDYPVVSIEDPFDQDDWGAWQK   \n",
       "4        sp|P04406|G3P_HUMAN(pre=K,post=T)        VIHDNFGIVEGLM^TTVHAITATQK   \n",
       "...                                    ...                              ...   \n",
       "11242   sp|O95994|AGR2_HUMAN(pre=K,post=K)          TSNKPLMIIHHLDEC^PHSQALK   \n",
       "11243  sp|Q6ZRV2|FA83H_HUMAN(pre=R,post=E)                       HLRPPQYVTR   \n",
       "11244  sp|P60228|EIF3E_HUMAN(pre=K,post=Y)                    HGFRQEYLDTLYR   \n",
       "11245   sp|O75369|FLNB_HUMAN(pre=K,post=R)          FNDEHIPESPYLVPVIAPSDDAR   \n",
       "11246  sp|O43390|HNRPR_HUMAN(pre=K,post=G)                     LKDYAFVHFEDR   \n",
       "\n",
       "         QValue  ScanNum   Precursor precursor_intensity  retention_time  \n",
       "0      0.000000    55993  1288.01390         1.27361e+06      145.204910  \n",
       "1      0.000000    80256  1152.53100         2.19076e+06      205.637550  \n",
       "2      0.000000    43187   957.80680              979857      113.586570  \n",
       "3      0.000000    87234  1493.21010         2.16843e+06      223.188150  \n",
       "4      0.000000    77121   653.59620         1.69217e+06      197.771340  \n",
       "...         ...      ...         ...                 ...             ...  \n",
       "11242  0.009958    25669   857.44037              247029       70.335208  \n",
       "11243  0.009958     8777   422.90820              571661       28.131130  \n",
       "11244  0.009958    31999   425.21720              184769       85.958851  \n",
       "11245  0.009958    67748   861.42926              320616      174.406110  \n",
       "11246  0.009958    33196   385.69730              132348       88.923854  \n",
       "\n",
       "[11247 rows x 7 columns]"
      ]
     },
     "execution_count": 96,
     "metadata": {},
     "output_type": "execute_result"
    }
   ],
   "source": [
    "pdx6449_rep2\n"
   ]
  },
  {
   "cell_type": "markdown",
   "metadata": {},
   "source": [
    "# PXD000472"
   ]
  },
  {
   "cell_type": "code",
   "execution_count": 76,
   "metadata": {},
   "outputs": [],
   "source": [
    "ctr472 = pd.read_csv('PXD000472/tsvs/b0775p96_Control_1.tsv', sep='\\t')\n",
    "ctr472 = ctr472[ctr472['QValue'] <= .01]\n",
    "\n",
    "ctr472['peptide'] = ctr472.apply(format_msgf_mod, axis=1)\n",
    "mzml472 = pyteomics.mzml.MzML('PXD000472/mzmls/b0775p96_Control_1.mzML')\n",
    "ctr472['precursor_intensity'] = ctr472.apply(lambda row: get_precursor_inten(row, mzml472, 'ScanNum'), axis=1)\n",
    "ctr472['retention_time'] = ctr472.apply(lambda row: get_retention_time(row, mzml472, 'ScanNum'), axis=1)\n",
    "\n",
    "\n",
    "ctr472_1 = ctr472[['ScanNum','peptide','Protein','QValue','retention_time','Precursor','precursor_intensity']]\n",
    "\n",
    "ctr472_1.to_csv(\"PXD000472/ctr472_1\", sep='\\t')"
   ]
  },
  {
   "cell_type": "code",
   "execution_count": 77,
   "metadata": {},
   "outputs": [],
   "source": [
    "ctr472 = pd.read_csv('PXD000472/tsvs/b0775p96_Control_2.tsv', sep='\\t')\n",
    "ctr472 = ctr472[ctr472['QValue'] <= .01]\n",
    "\n",
    "ctr472['peptide'] = ctr472.apply(format_msgf_mod, axis=1)\n",
    "mzml472 = pyteomics.mzml.MzML('PXD000472/mzmls/b0775p96_Control_2.mzML')\n",
    "ctr472['precursor_intensity'] = ctr472.apply(lambda row: get_precursor_inten(row, mzml472, 'ScanNum'), axis=1)\n",
    "ctr472['retention_time'] = ctr472.apply(lambda row: get_retention_time(row, mzml472, 'ScanNum'), axis=1)\n",
    "\n",
    "\n",
    "ctr472_2 = ctr472[['ScanNum','peptide','Protein','QValue','retention_time','Precursor','precursor_intensity']]\n",
    "\n",
    "ctr472_2.to_csv(\"PXD000472/ctr472_2\", sep='\\t')"
   ]
  },
  {
   "cell_type": "code",
   "execution_count": 78,
   "metadata": {},
   "outputs": [],
   "source": [
    "ctr472 = pd.read_csv('PXD000472/tsvs/b0775p96_Control_3.tsv', sep='\\t')\n",
    "ctr472 = ctr472[ctr472['QValue'] <= .01]\n",
    "\n",
    "ctr472['peptide'] = ctr472.apply(format_msgf_mod, axis=1)\n",
    "mzml472 = pyteomics.mzml.MzML('PXD000472/mzmls/b0775p96_Control_3.mzML')\n",
    "ctr472['precursor_intensity'] = ctr472.apply(lambda row: get_precursor_inten(row, mzml472, 'ScanNum'), axis=1)\n",
    "ctr472['retention_time'] = ctr472.apply(lambda row: get_retention_time(row, mzml472, 'ScanNum'), axis=1)\n",
    "\n",
    "\n",
    "ctr472_3 = ctr472[['ScanNum','peptide','Protein','QValue','retention_time','Precursor','precursor_intensity']]\n",
    "\n",
    "ctr472_3.to_csv(\"PXD000472/ctr472_3\", sep='\\t')"
   ]
  },
  {
   "cell_type": "code",
   "execution_count": 79,
   "metadata": {},
   "outputs": [],
   "source": [
    "ctr472 = pd.read_csv('PXD000472/tsvs/b0775p96_Control_4.tsv', sep='\\t')\n",
    "ctr472 = ctr472[ctr472['QValue'] <= .01]\n",
    "\n",
    "ctr472['peptide'] = ctr472.apply(format_msgf_mod, axis=1)\n",
    "mzml472 = pyteomics.mzml.MzML('PXD000472/mzmls/b0775p96_Control_4.mzML')\n",
    "ctr472['precursor_intensity'] = ctr472.apply(lambda row: get_precursor_inten(row, mzml472, 'ScanNum'), axis=1)\n",
    "ctr472['retention_time'] = ctr472.apply(lambda row: get_retention_time(row, mzml472, 'ScanNum'), axis=1)\n",
    "\n",
    "\n",
    "ctr472_4 = ctr472[['ScanNum','peptide','Protein','QValue','retention_time','Precursor','precursor_intensity']]\n",
    "\n",
    "ctr472_4.to_csv(\"PXD000472/ctr472_4\", sep='\\t')"
   ]
  },
  {
   "cell_type": "code",
   "execution_count": 113,
   "metadata": {},
   "outputs": [],
   "source": [
    "all_list = [ctr472_1['peptide'].unique(),ctr472_2['peptide'].unique(),ctr472_3['peptide'].unique(),ctr472_4['peptide'].unique()]\n",
    "all_list = [item for sublist in all_list for item in sublist]\n",
    "\n",
    "pxd472_pnnl = list(set(all_list) & set(df3['peptide']))\n",
    "\n",
    "ctr1 = ctr472_1[ctr472_1['peptide'].isin(pxd472_pnnl)]\n",
    "ctr2 = ctr472_2[ctr472_2['peptide'].isin(pxd472_pnnl)]\n",
    "ctr3 = ctr472_3[ctr472_3['peptide'].isin(pxd472_pnnl)]\n",
    "ctr4 = ctr472_4[ctr472_4['peptide'].isin(pxd472_pnnl)]\n",
    "\n",
    "\n",
    "ctr1.to_csv(\"PXD000472/PXD000472_rep1\", sep='\\t')\n",
    "ctr2.to_csv(\"PXD000472/PXD000472_rep2\", sep='\\t')\n",
    "ctr3.to_csv(\"PXD000472/PXD000472_rep3\", sep='\\t')\n",
    "ctr4.to_csv(\"PXD000472/PXD000472_rep4\", sep='\\t')"
   ]
  },
  {
   "cell_type": "code",
   "execution_count": 100,
   "metadata": {},
   "outputs": [
    {
     "data": {
      "text/plain": [
       "306"
      ]
     },
     "execution_count": 100,
     "metadata": {},
     "output_type": "execute_result"
    }
   ],
   "source": [
    "len(ctr4)"
   ]
  },
  {
   "cell_type": "code",
   "execution_count": 105,
   "metadata": {},
   "outputs": [
    {
     "data": {
      "text/plain": [
       "110"
      ]
     },
     "execution_count": 105,
     "metadata": {},
     "output_type": "execute_result"
    }
   ],
   "source": [
    "first_and_sec = set(set(ctr1['peptide']) & set(ctr2['peptide']))\n",
    "all_4repl = set(set(first_and_sec) & set(ctr3['peptide']))\n",
    "all_4repl = set(set(all_4repl) & set(ctr4['peptide']))\n",
    "len(all_4repl)"
   ]
  },
  {
   "cell_type": "code",
   "execution_count": 102,
   "metadata": {},
   "outputs": [
    {
     "data": {
      "text/plain": [
       "435"
      ]
     },
     "execution_count": 102,
     "metadata": {},
     "output_type": "execute_result"
    }
   ],
   "source": [
    "all_list = [ctr1['peptide'].unique(),ctr2['peptide'].unique(),ctr3['peptide'].unique(),ctr4['peptide'].unique()]\n",
    "all_list = [item for sublist in all_list for item in sublist]\n",
    "\n",
    "len(set(all_list))"
   ]
  }
 ],
 "metadata": {
  "kernelspec": {
   "display_name": "Python 3",
   "language": "python",
   "name": "python3"
  },
  "language_info": {
   "codemirror_mode": {
    "name": "ipython",
    "version": 3
   },
   "file_extension": ".py",
   "mimetype": "text/x-python",
   "name": "python",
   "nbconvert_exporter": "python",
   "pygments_lexer": "ipython3",
   "version": "3.8.3"
  }
 },
 "nbformat": 4,
 "nbformat_minor": 4
}
