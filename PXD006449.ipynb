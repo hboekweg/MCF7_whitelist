{
 "cells": [
  {
   "cell_type": "code",
   "execution_count": 1,
   "metadata": {},
   "outputs": [],
   "source": [
    "import pandas as pd"
   ]
  },
  {
   "cell_type": "markdown",
   "metadata": {},
   "source": [
    "MCF7 was grown under three different conditions: \n",
    "\n",
    "(1) Minimum Essential Medium (MEM) with glucose and without glutamine (MEM-Gln), \n",
    "\n",
    "(2) MEM with glucose and glutamine (MEM) \n",
    "\n",
    "(3) MEM with glucose, glutamine and supplemented with Oligomycin – an inhibitor of ATP synthase that inhibits cell respiration (MEM+Oli).\n",
    "\n",
    "\n",
    "The media were chosen because they reflect multiple stress conditions for the cell: one media (glutamine deprivation) is chosen because MCF7 cells rely on glutamine as the main source of energy, and the other media (supplement of Oligomycin) is chosen because it emulates tumor hypoxic conditions."
   ]
  },
  {
   "cell_type": "markdown",
   "metadata": {},
   "source": [
    "The measurements were repeated twice under each condition at two time points - after 8 and 24 hours"
   ]
  },
  {
   "cell_type": "code",
   "execution_count": 2,
   "metadata": {},
   "outputs": [],
   "source": [
    "ctr_8 = pd.read_csv('/Volumes/LaCie/phospho_white_list/PXD006449/2021-08-24-07-55-07/Task3-search/Individual File Results/20130426_SK_SA_marta_phospho_8_1-calib_PSMs.psmtsv',sep='\\t')\n",
    "gln_8 = pd.read_csv('/Volumes/LaCie/phospho_white_list/PXD006449/2021-08-24-07-55-07/Task3-search/Individual File Results/20130426_SK_SA_marta_phospho_8_gln_1-calib_PSMs.psmtsv',sep='\\t')\n",
    "gln_oligo_8 = pd.read_csv('/Volumes/LaCie/phospho_white_list/PXD006449/2021-08-24-07-55-07/Task3-search/Individual File Results/20130426_SK_SA_marta_phospho_8_gln_oligo_1-calib_PSMs.psmtsv',sep='\\t')\n"
   ]
  },
  {
   "cell_type": "code",
   "execution_count": 3,
   "metadata": {},
   "outputs": [
    {
     "name": "stderr",
     "output_type": "stream",
     "text": [
      "/opt/anaconda3/lib/python3.8/site-packages/IPython/core/interactiveshell.py:3071: DtypeWarning: Columns (11) have mixed types.Specify dtype option on import or set low_memory=False.\n",
      "  has_raised = await self.run_ast_nodes(code_ast.body, cell_name,\n"
     ]
    }
   ],
   "source": [
    "ctr_24 = pd.read_csv('/Volumes/LaCie/phospho_white_list/PXD006449/2021-08-24-07-55-07/Task3-search/Individual File Results/20130426_SK_SA_marta_phospho_24_1-calib_PSMs.psmtsv',sep='\\t')\n",
    "gln_24 = pd.read_csv('/Volumes/LaCie/phospho_white_list/PXD006449/2021-08-24-07-55-07/Task3-search/Individual File Results/20130426_SK_SA_marta_phospho_24_gln_1-calib_PSMs.psmtsv',sep='\\t')\n",
    "gln_oligo_24 = pd.read_csv('/Volumes/LaCie/phospho_white_list/PXD006449/2021-08-24-07-55-07/Task3-search/Individual File Results/20130426_SK_SA_marta_phospho_24_gln_oligo_1-calib_PSMs.psmtsv',sep='\\t')\n",
    "\n"
   ]
  },
  {
   "cell_type": "code",
   "execution_count": 6,
   "metadata": {},
   "outputs": [
    {
     "data": {
      "text/plain": [
       "['File Name',\n",
       " 'Scan Number',\n",
       " 'Scan Retention Time',\n",
       " 'Num Experimental Peaks',\n",
       " 'Total Ion Current',\n",
       " 'Precursor Scan Number',\n",
       " 'Precursor Charge',\n",
       " 'Precursor MZ',\n",
       " 'Precursor Mass',\n",
       " 'Score',\n",
       " 'Delta Score',\n",
       " 'Notch',\n",
       " 'Base Sequence',\n",
       " 'Full Sequence',\n",
       " 'Essential Sequence',\n",
       " 'Ambiguity Level',\n",
       " 'PSM Count (unambiguous, <0.01 q-value)',\n",
       " 'Mods',\n",
       " 'Mods Chemical Formulas',\n",
       " 'Mods Combined Chemical Formula',\n",
       " 'Num Variable Mods',\n",
       " 'Missed Cleavages',\n",
       " 'Peptide Monoisotopic Mass',\n",
       " 'Mass Diff (Da)',\n",
       " 'Mass Diff (ppm)',\n",
       " 'Protein Accession',\n",
       " 'Protein Name',\n",
       " 'Gene Name',\n",
       " 'Organism Name',\n",
       " 'Identified Sequence Variations',\n",
       " 'Splice Sites',\n",
       " 'Contaminant',\n",
       " 'Decoy',\n",
       " 'Peptide Description',\n",
       " 'Start and End Residues In Protein',\n",
       " 'Previous Amino Acid',\n",
       " 'Next Amino Acid',\n",
       " 'Theoreticals Searched',\n",
       " 'Decoy/Contaminant/Target',\n",
       " 'Matched Ion Series',\n",
       " 'Matched Ion Mass-To-Charge Ratios',\n",
       " 'Matched Ion Mass Diff (Da)',\n",
       " 'Matched Ion Mass Diff (Ppm)',\n",
       " 'Matched Ion Intensities',\n",
       " 'Matched Ion Counts',\n",
       " 'Normalized Spectral Angle',\n",
       " 'Localized Scores',\n",
       " 'Improvement Possible',\n",
       " 'Cumulative Target',\n",
       " 'Cumulative Decoy',\n",
       " 'QValue',\n",
       " 'Cumulative Target Notch',\n",
       " 'Cumulative Decoy Notch',\n",
       " 'QValue Notch',\n",
       " 'PEP',\n",
       " 'PEP_QValue']"
      ]
     },
     "execution_count": 6,
     "metadata": {},
     "output_type": "execute_result"
    }
   ],
   "source": [
    "list(ctr_8.columns)"
   ]
  }
 ],
 "metadata": {
  "kernelspec": {
   "display_name": "Python 3",
   "language": "python",
   "name": "python3"
  },
  "language_info": {
   "codemirror_mode": {
    "name": "ipython",
    "version": 3
   },
   "file_extension": ".py",
   "mimetype": "text/x-python",
   "name": "python",
   "nbconvert_exporter": "python",
   "pygments_lexer": "ipython3",
   "version": "3.8.3"
  }
 },
 "nbformat": 4,
 "nbformat_minor": 4
}
